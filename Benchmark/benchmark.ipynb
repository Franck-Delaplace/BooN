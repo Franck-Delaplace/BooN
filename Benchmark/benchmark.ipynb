{
 "cells": [
  {
   "metadata": {},
   "cell_type": "markdown",
   "source": [
    "<h1 style=\"text-align:center;\"> BooN Benchmarking </h1>\n",
    "Benchmark evaluating the computation time of the main BooN methods.\n",
    "The parameters are adapted to provide complex formulas using ER topology and  simple formulas using SW topology."
   ],
   "id": "fc6a513050e4f910"
  },
  {
   "cell_type": "code",
   "id": "initial_id",
   "metadata": {
    "collapsed": true,
    "ExecuteTime": {
     "end_time": "2025-01-02T12:59:38.905400Z",
     "start_time": "2025-01-02T12:59:34.224542Z"
    }
   },
   "source": [
    "import random\n",
    "\n",
    "from boon import *\n",
    "from datetime import datetime\n",
    "from sympy import SOPform\n",
    "\n",
    "from pulp import GUROBI_CMD\n",
    "import os"
   ],
   "outputs": [],
   "execution_count": 1
  },
  {
   "metadata": {},
   "cell_type": "markdown",
   "source": [
    "## Stable states computation benchmark\n",
    "Evaluate the time spent on computing the stable states."
   ],
   "id": "4854f7813fc5d66a"
  },
  {
   "metadata": {},
   "cell_type": "code",
   "source": [
    "# PARAMETERS OF THE BENCHMARK\n",
    "# MINIMAL NUMBER OF NODES\n",
    "Nmin = 10\n",
    "# MAXIMAL NUMBER OF NODES\n",
    "Nmax=500\n",
    "# NUMBER OF TRIALS\n",
    "trials = 10\n",
    "# STEPS\n",
    "step = 10\n",
    "# Open file for benchmark trace.\n",
    "# trace_file = \"bench-stable-state-ER.csv\"\n",
    "trace_file = \"bench-stable-state-SW.csv\"\n",
    "ftrace =  open(trace_file, \"w\")\n",
    "ftrace.write(\"# BENCHMARK: \"+datetime.now().strftime(\"%d-%b-%y %H\")+\"\\n\")\n",
    "\n",
    "for n in range(Nmin,Nmax+step,step):\n",
    "    print(\"\\r%3d : *\"%n, end=\"\")\n",
    "    for trial in range(trials):\n",
    "        # boon = BooN.random(n, p_link=0.25, p_pos=0.6, topology='Erdos-Reny')\n",
    "        boon = BooN.random(n, p_link=1, p_pos=0.6, topology='Small-World')\n",
    "    \n",
    "        print(\"\\r%3d : \\\\\"%n, end=\"\")\n",
    "        \n",
    "        # Total number of terms of the Boon\n",
    "        totalterms = 0\n",
    "        for formula in boon.desc.values():\n",
    "            if not isinstance(formula, bool):\n",
    "                for clause in formula.args:\n",
    "                    totalterms+=max(len(clause.args),1)\n",
    "                 \n",
    "        print(\"\\r%3d : |\"%n, end=\"\")\n",
    "        # START TIME\n",
    "        start = datetime.now()\n",
    "        # PROCESS THE TASK \n",
    "        result = boon.stable_states\n",
    "        # END TIMER\n",
    "        end = datetime.now()\n",
    "        duration = (end-start).total_seconds()\n",
    "        # LINE CONTENT\n",
    "        # size, trial number, number of stable states, number of terms, duration  \n",
    "        ftrace.write(\"%d, %d, %d, %d,  %f\\n\"%(n,trial,len(result),totalterms, duration))\n",
    "        print(\"\\r%3d : ―\"%n, end=\"\")\n",
    "        \n",
    "    print(\"\\r%3d : .\"%n, end=\"\")\n",
    "    ftrace.flush()\n",
    "\n",
    "print(\">> END STABLE STATE BENCHMARK\")\n",
    "ftrace.close()"
   ],
   "id": "f48bdd543140d953",
   "outputs": [],
   "execution_count": null
  },
  {
   "metadata": {},
   "cell_type": "markdown",
   "source": [
    "## Equilibria Computation Benchmark\n",
    "Evaluate the time spent on computing the equilibria using the brute force method by generating the complete state graph."
   ],
   "id": "ec4e93d29d0cf78e"
  },
  {
   "metadata": {},
   "cell_type": "code",
   "source": [
    "# PARAMETERS OF THE BENCHMARK\n",
    "# MINIMAL NUMBER OF NODES\n",
    "# Nmin = 1\n",
    "Nmin = 1\n",
    "# MAXIMAL NUMBER OF NODES\n",
    "Nmax = 15\n",
    "# NUMBER OF TRIALS\n",
    "trials = 10\n",
    "# STEPS\n",
    "step = 1\n",
    "# Open file for benchmark trace.\n",
    "# trace_file = \"bench-equilibria-ER.csv\"\n",
    "trace_file = \"bench-equilibria-SW.csv\"\n",
    "ftrace =  open(trace_file, \"a\")  # The trace file cumulates the benchmarks.\n",
    "ftrace.write(\"# BENCHMARK EQUILIBRIA: \"+datetime.now().strftime(\"%d-%b-%y %H\")+\"\\n\")\n",
    "\n",
    "for n in range(Nmin,Nmax+step,step):\n",
    "    for trial in range(trials):\n",
    "        # boon = BooN.random(n, p_link=0.5, p_pos=0.6, topology='Erdos-Reny')\n",
    "        boon = BooN.random(n, p_link=0.1, p_pos=0.6, topology='Small-World')\n",
    "\n",
    "         # Total number of terms of the Boon\n",
    "        totalterms = 0\n",
    "        for formula in boon.desc.values():\n",
    "            if not isinstance(formula, bool):\n",
    "                for clause in formula.args:\n",
    "                    totalterms+=max(len(clause.args),1)\n",
    "\n",
    "        print(\"\\n%3d-%3d: ASYNCHONOUS  \"%(n,trial))\n",
    "        # START TIME\n",
    "        start = datetime.now()\n",
    "        # PROCESS THE TASK \n",
    "        model = boon.model(mode=asynchronous, trace=True)\n",
    "        print(\"\\rBenchmark >>  equilibria computation               \", end=\"\")\n",
    "        eqs_asynchronous = boon.equilibria(model=model, trace=True)\n",
    "        print(\"\\rBenchmark >> Completed                             \", end=\"\")\n",
    "        # END TIMER\n",
    "        end = datetime.now()\n",
    "        duration_asynchronous = (end-start).total_seconds()\n",
    "        \n",
    "        print(\"\\n%3d-%3d: SYNCHRONOUS  \"%(n,trial))\n",
    "        start = datetime.now()\n",
    "        # PROCESS THE TASK \n",
    "        model = boon.model(mode=synchronous, trace=True)\n",
    "        print(\"\\rBenchmark >>  equilibria computation               \", end=\"\")\n",
    "        eqs_synchronous = boon.equilibria(model=model, trace=True)\n",
    "        print(\"\\rBenchmark >> Completed                             \", end=\"\")\n",
    "        # END TIMER\n",
    "        end = datetime.now()\n",
    "        duration_synchronous = (end-start).total_seconds()\n",
    "            # LINE CONTENT\n",
    "        # size, trial number, number of equilibria for asynchronous mode, number of equilibria for synchronous mode, number of terms, asynchronous duration, synchronous duration  \n",
    "        ftrace.write(\"%d, %d, %d, %d,  %d, %f, %f\\n\"%(n,trial,len(eqs_asynchronous),len(eqs_synchronous),totalterms, duration_asynchronous, duration_synchronous))\n",
    "        ftrace.flush()\n",
    "        print(\">> \", end=\"*\")\n",
    "    ftrace.flush()\n",
    "\n",
    "print(\">> END EQUILIBRIA BENCHMARK\")\n",
    "ftrace.close()"
   ],
   "id": "e9d620af21bfa3e0",
   "outputs": [],
   "execution_count": null
  },
  {
   "metadata": {},
   "cell_type": "markdown",
   "source": [
    " ## Controllability\n",
    "In the controllability benchmark, we find the control to reach a Boolean profile a stable state for x0 x1 which is not contained in the stable states.\n",
    "The possibility and the necessity are tested."
   ],
   "id": "2a70e3df773bb2d4"
  },
  {
   "metadata": {},
   "cell_type": "markdown",
   "source": "### Possibility",
   "id": "f10a89f9709a1ac4"
  },
  {
   "metadata": {
    "jupyter": {
     "is_executing": true
    },
    "ExecuteTime": {
     "start_time": "2025-01-02T13:00:51.926474Z"
    }
   },
   "cell_type": "code",
   "source": [
    "# Benchmark Possibility\n",
    "# PARAMETERS OF THE BENCHMARK\n",
    "# MINIMAL NUMBER OF NODES\n",
    "Nmin =80\n",
    "# MAXIMAL NUMBER OF NODES\n",
    "Nmax = 100\n",
    "# NUMBER OF TRIALS\n",
    "trials = 10\n",
    "# STEPS\n",
    "step = 10\n",
    "\n",
    "# Open file for benchmark trace.\n",
    "trace_file = \"bench-possibility-ER.csv\"  # Erdös Reny\n",
    "# trace_file = \"bench-possibility-SW.csv\" # Small-World\n",
    "ftrace = open(trace_file, \"a\")\n",
    "ftrace.write(\"# BENCHMARK CONTROLLABILITY - POSSIBILITY: \" + datetime.now().strftime(\"%d-%b-%y %H\") + \"\\n\")\n",
    "\n",
    "x0, x1 = symbols('x0 x1')  # Define the variable.\n",
    "\n",
    "for n in range(Nmin, Nmax + step, step):\n",
    "    print(\"\\r%3d    : *\" % n, end=\"\")\n",
    "    for trial in range(trials):\n",
    "        boon = BooN.random(n, p_link=0.5, p_pos=0.6, topology='Erdos-Reny')\n",
    "        # boon = BooN.random(n, p_link=1, p_pos=0.6, topology='Small-World')\n",
    "        print(\"\\r%3d %3d: \\\\\" % (n, trial), end=\"\")\n",
    "\n",
    "        # Total number of terms of the Boon\n",
    "        totalterms = 0\n",
    "        for formula in boon.desc.values():\n",
    "            if not isinstance(formula, bool):\n",
    "                for clause in formula.args:\n",
    "                    totalterms += max(len(clause.args), 1)\n",
    "\n",
    "        # Find a missing configuration in stable state\n",
    "        stablestate = boon.stable_states\n",
    "        eqpairs = {(eq[x0], eq[x1]) for eq in stablestate}\n",
    "        freestates = {(True, True), (False, False), (True, False), (False, True)} - eqpairs\n",
    "\n",
    "        # if freestates is empty meaning that all the Boolean configurations exist in the stable states, then skip the trial.\n",
    "        if freestates:\n",
    "            controlvalues = random.choice(list(freestates))\n",
    "        else:\n",
    "            continue\n",
    "\n",
    "        # Define the query\n",
    "        query = SOPform({x0, x1}, [dict(zip((x0, x1), controlvalues))])\n",
    "\n",
    "        # Frozen variables excluding x0 x1\n",
    "        frozenvars = boon.variables - {x0, x1}\n",
    "        # Set control to boon\n",
    "        boon.control(frozenvars, frozenvars)\n",
    "\n",
    "        print(\"\\r%3d %3d: |\" % (n, trial), end=\"\")\n",
    "        # EVALUATE CONTROLLABILITY\n",
    "        # POSSIBILITY\n",
    "        start = datetime.now()\n",
    "        # PROCESS THE TASK\n",
    "        destiny = boon.possibly(query)\n",
    "        core = boon.destify(destiny, max_solutions=100, trace=True)\n",
    "        actions_possibly = core2actions(core)\n",
    "        # END TIMER\n",
    "        end = datetime.now()\n",
    "        duration_possibly = (end - start).total_seconds()\n",
    "\n",
    "        print(\"\\r%3d %3d: ―\" % (n, trial), end=\"\")\n",
    "\n",
    "        # LINE CONTENT\n",
    "        # size, trial number, number of solutions for possibility, number of terms, possibility duration\n",
    "        ftrace.write(\"%d, %d, %d, %d, %f\\n\" % (n, trial, len(actions_possibly), totalterms, duration_possibly))\n",
    "        ftrace.flush()\n",
    "        print(\"\\r%3d-%3d: /\" % (n, trial), end=\"\")\n",
    "\n",
    "    print(\"\\r%3d    : .\" % n, end=\"\")\n",
    "    ftrace.flush()\n",
    "\n",
    "print(\">> END CONTROLLABILITY POSSIBILITY BENCHMARK\")\n",
    "ftrace.close()"
   ],
   "id": "ff9525248bb9aa",
   "outputs": [
    {
     "name": "stdout",
     "output_type": "stream",
     "text": [
      "BooN PI >> Solve.                                  \n",
      " 80   1: |"
     ]
    }
   ],
   "execution_count": null
  },
  {
   "metadata": {},
   "cell_type": "code",
   "outputs": [],
   "execution_count": null,
   "source": "",
   "id": "93211b3be8f653a1"
  }
 ],
 "metadata": {
  "kernelspec": {
   "display_name": "Python 3",
   "language": "python",
   "name": "python3"
  },
  "language_info": {
   "codemirror_mode": {
    "name": "ipython",
    "version": 2
   },
   "file_extension": ".py",
   "mimetype": "text/x-python",
   "name": "python",
   "nbconvert_exporter": "python",
   "pygments_lexer": "ipython2",
   "version": "2.7.6"
  }
 },
 "nbformat": 4,
 "nbformat_minor": 5
}
