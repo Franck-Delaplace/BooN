{
 "cells": [
  {
   "metadata": {},
   "cell_type": "markdown",
   "source": [
    "## Breast Cancer: Causes and Drug Target Prediction\n",
    "\n",
    "The program analyzes the cause of breast cancer from a Boolean network datamodel, namely which genes should be mutated to cause cancer and are they oncogenes (True) or tumor suppressors (False).\n",
    "Next, the program found the potential therapeutic targets and the actions on them for a cancer caused by BRCA1 mutation."
   ],
   "id": "ad66073d241e4af5"
  },
  {
   "metadata": {},
   "cell_type": "code",
   "source": [
    "# BREAST CANCER CAUSES AND DRUG PREDICTION\n",
    "import time\n",
    "import matplotlib.pyplot as plt\n",
    "from sympy import SOPform, simplify_logic\n",
    "from tabulate import tabulate\n",
    "from boon import *"
   ],
   "id": "f3ede40ad39bd7a3",
   "outputs": [],
   "execution_count": null
  },
  {
   "metadata": {},
   "cell_type": "markdown",
   "source": [
    "## Network model\n",
    "import the network model from a text file. Note that this model also exists in BooN format. Note that in a normal cell these two phenotypes exist potentially. "
   ],
   "id": "a3e171dfade54a41"
  },
  {
   "metadata": {},
   "cell_type": "code",
   "source": [
    "#  Load the network model. A text version of the model in BNet is also available\n",
    "bcn = BooN.load(\"breast-cancer\")\n",
    "\n",
    "# Show the Boolean network\n",
    "print(\" - Boolean Network - \")\n",
    "print(bcn)"
   ],
   "id": "81d0751a259b9e04",
   "outputs": [],
   "execution_count": null
  },
  {
   "metadata": {},
   "cell_type": "code",
   "source": [
    "# print all the genes.\n",
    "print(\"\\n\", \"List of genes: \", bcn.variables)"
   ],
   "id": "b2603dadc91597f",
   "outputs": [],
   "execution_count": null
  },
  {
   "metadata": {},
   "cell_type": "markdown",
   "source": [
    "### Stable States\n",
    "In this model two stable states exist that respectively correspond to cell division and apoptosis. "
   ],
   "id": "342d67d2bca5bd98"
  },
  {
   "metadata": {},
   "cell_type": "code",
   "source": [
    "# Compute the stable states.\n",
    "print(\"\\n\" * 2, \" - Stable States -\")\n",
    "stable_states = bcn.stable_states\n",
    "print(tabulate(stable_states, headers='keys', tablefmt='plain'))"
   ],
   "id": "c0b36de225900b3a",
   "outputs": [],
   "execution_count": null
  },
  {
   "metadata": {},
   "cell_type": "markdown",
   "source": "### Interaction Graph",
   "id": "4a08102da1d82ada"
  },
  {
   "metadata": {},
   "cell_type": "code",
   "source": [
    "print(\"Interaction Graph\")\n",
    "# interaction graph\n",
    "bcn.draw_IG()\n",
    "plt.show()  # Show the interaction graph"
   ],
   "id": "355ffeb3297c59b7",
   "outputs": [],
   "execution_count": null
  },
  {
   "metadata": {},
   "cell_type": "markdown",
   "source": [
    "## Cause of Cancer\n",
    "In order to ascertain the potential causes of cancer, a controllability analysis is first employed.\n",
    "This analysis is based on the characterisation of biomarkers, which are genes whose states are utilised to differentiate between phenotypes.\n",
    "Based on the states of the aforementioned biomarkers, a control query is then defined with the objective of identifying the cause of cancer. "
   ],
   "id": "a1c2d6c600bcf21e"
  },
  {
   "metadata": {},
   "cell_type": "markdown",
   "source": [
    "### Characterization of the biomarkers\n",
    "The selected biomarkers are CycD1 and Bax. The Boolean profiles, respectively, correspond to cell division and apoptosis.\n",
    "\n",
    "\n",
    "| CyCD1 | Bax | *Phenotype* |\n",
    "|:-----:|:-----:| -------:|\n",
    "| 0 | 1 | *Apoptosis* |\n",
    "| 1 | 0 | *Cell Division* |\n"
   ],
   "id": "1fc34785335a1c70"
  },
  {
   "metadata": {},
   "cell_type": "code",
   "source": [
    "# Define the biomarkers\n",
    "CycD1, Bax = symbols(\"CycD1 Bax\")\n",
    "biomarkers = {CycD1, Bax}"
   ],
   "id": "70961f8dd4db777",
   "outputs": [],
   "execution_count": null
  },
  {
   "metadata": {},
   "cell_type": "markdown",
   "source": [
    "In essence, the model represents the cancerous state as a loss of apoptosis, which is a hallmark of cancer.\n",
    "We will define a query, or formula, that delineates the circumstances under which apoptosis cannot be sustained in any stable state. "
   ],
   "id": "57b577b3f1dcfa9d"
  },
  {
   "metadata": {},
   "cell_type": "code",
   "source": [
    "# Characterize a marking corresponding to the apoptosis\n",
    "marking = {CycD1: False, Bax: True}\n",
    "# convert the marking into a formula\n",
    "apoptosis_marking = SOPform(biomarkers, [marking])\n",
    "print(\"Apoptosis biomarkers\")\n",
    "print(tabulate([marking], headers='keys', tablefmt='plain'))"
   ],
   "id": "2296482af1101de7",
   "outputs": [],
   "execution_count": null
  },
  {
   "metadata": {},
   "cell_type": "markdown",
   "source": [
    "\n",
    "### Control query definition\n",
    "Set the marking formula of cancer loosing the apoptosis, that is the negation of apoptosis query, A cell therefore cannot die defining a hallmark of cancer."
   ],
   "id": "875556c3fc5b0db6"
  },
  {
   "metadata": {},
   "cell_type": "code",
   "source": [
    " kquery = simplify_logic(~apoptosis_marking, force=True)\n",
    "print(\"Disease query, prevent apoptosis: \", kquery)"
   ],
   "id": "217179af84206663",
   "outputs": [],
   "execution_count": null
  },
  {
   "metadata": {},
   "cell_type": "markdown",
   "source": [
    "Now, we Define the variables where the control can be applied to force the freeze of variables.\n",
    "A variable can have a two controls for freezing to True and to False.\n",
    "Obviously, the biomarkers are always excluded from the control since they are observers characterizing the phenotypes by their profile. "
   ],
   "id": "8f26a57cbd90b523"
  },
  {
   "metadata": {},
   "cell_type": "code",
   "source": [
    "frozenvars0 = frozenvars1 = bcn.variables - biomarkers\n",
    "print(\"Frozen variables 0 and 1\")\n",
    "print(tabulate([frozenvars0, frozenvars1], tablefmt='grid'))"
   ],
   "id": "4497b56b04096262",
   "outputs": [],
   "execution_count": null
  },
  {
   "metadata": {},
   "cell_type": "markdown",
   "source": "Finally, we extend the Boolean network to a Boolean Controlled network according to the frozen variables. ",
   "id": "d31d0766cf32683a"
  },
  {
   "metadata": {},
   "cell_type": "code",
   "source": [
    "# Copy the network and fix the control on it. The control consists in adding control parameters (_u0<var>, _u1<var>) to formulas. \n",
    "bcc = bcn.copy()\n",
    "bcc.control(frozenvars0, frozenvars1)\n",
    "\n",
    "print(\"\\n- Controlled Network -\")\n",
    "print(bcc)"
   ],
   "id": "52af5e5d2274e06f",
   "outputs": [],
   "execution_count": null
  },
  {
   "metadata": {},
   "cell_type": "markdown",
   "source": [
    " ### Controllability Analysis\n",
    "A controllability analysis should be conducted for  identifying  the potential gene freezes that would satisfy the query at stable state. \n",
    "\n",
    "The number of models is approximately 3,500. We kindly request your patience."
   ],
   "id": "dbf511d7cef1edc"
  },
  {
   "metadata": {},
   "cell_type": "code",
   "source": [
    "print(\"\\nQuery: Necessary avoid the apoptosis.\")\n",
    "start_time = time.time()\n",
    "destiny = bcc.necessary(kquery, trace=True)  # activate the trace to see the evolution of the computation.\n",
    "print(\"Runtime..: {:5.2f}\".format(time.time() - start_time))\n",
    "print(\"# clauses: {}\".format(len(destiny.args)))\n",
    "print(\"# symbols: {}\".format(destiny.count(Symbol)))"
   ],
   "id": "1afdcb368391a99e",
   "outputs": [],
   "execution_count": null
  },
  {
   "metadata": {},
   "cell_type": "markdown",
   "source": "### Controllability Analysis",
   "id": "f9b17a6b20dd1102"
  },
  {
   "metadata": {},
   "cell_type": "code",
   "source": [
    "print(\"\\nCore\")\n",
    "print(\"About 10 solutions.\")\n",
    "# Compute the core.\n",
    "start_time = time.time()\n",
    "core = BooN.destify(destiny, trace=True)\n",
    "print(\"Runtime: {:5.2f}\".format(time.time() - start_time))"
   ],
   "id": "efd8378dd16e55ea",
   "outputs": [],
   "execution_count": null
  },
  {
   "metadata": {},
   "cell_type": "markdown",
   "source": [
    "From the core, we derive the potential freeze actions as a pair (gene, freeze action).\n",
    "The table comprises a series of lines, each corresponding to a specific freeze action on genes that is necessary to fulfil the query.\n",
    "In the event that two pairs are present within a single line, it is necessary to combine both actions. "
   ],
   "id": "f0115149077f122a"
  },
  {
   "metadata": {},
   "cell_type": "code",
   "source": [
    "print(\"\\nActions\")  # Transform the core into actions.\n",
    "actions = core2actions(core)\n",
    "print(tabulate(actions))"
   ],
   "id": "f9bf80f24ac13066",
   "outputs": [],
   "execution_count": null
  },
  {
   "metadata": {},
   "cell_type": "markdown",
   "source": [
    "## Drug Target identification\n",
    "We now identify the possible drug target associated with the expected action to cure BRCA1 Cancer."
   ],
   "id": "25e4dc0248a5f353"
  },
  {
   "metadata": {},
   "cell_type": "code",
   "source": [
    "# We define a situation of cancer with BRCA1 mutation.\n",
    "print(\"\\n\" * 2, \" - Mutate BRCA1  -\")\n",
    "BRCA1 = symbols(\"BRCA1\")\n",
    "bcn.desc[BRCA1] = False\n",
    "\n",
    "print(\"Mutated network.\")\n",
    "print(bcn)"
   ],
   "id": "681dde44c6ff5efa",
   "outputs": [],
   "execution_count": null
  },
  {
   "metadata": {},
   "cell_type": "markdown",
   "source": "Define the frozen variables from the previous situation of the frozen variables by removing BRCA1",
   "id": "e2319565942500ad"
  },
  {
   "metadata": {},
   "cell_type": "code",
   "source": [
    "# copy the network and apply control\n",
    "# Remove the mutated gene from the controlled variable since no modifications is possible.\n",
    "frozenvars0 = frozenvars1 = frozenvars0 - {BRCA1}\n",
    "bndrug = bcn.copy()  # fix control on a new instance of bcn.\n",
    "bndrug.control(frozenvars0, frozenvars1)"
   ],
   "id": "dc569946f301c83b",
   "outputs": [],
   "execution_count": null
  },
  {
   "metadata": {},
   "cell_type": "markdown",
   "source": [
    "### Controllability analysis\n",
    "The issue is to identify the actions that induce apoptosis in order to determine the most effective therapeutic targets.\n",
    "It is hypothesised that at least a stable state will fulfil the query property since the drug may not work for all people. \n",
    "\n",
    "Note that the possibility resolution is faster than the necessity."
   ],
   "id": "c547eee4fb2097a4"
  },
  {
   "metadata": {},
   "cell_type": "code",
   "source": [
    "\n",
    "print(\"\\nQuery : Possibly lead to apoptosis.\")\n",
    "start_time = time.time()\n",
    "destiny = bndrug.possibly(apoptosis_marking)\n",
    "print(\"Runtime..: {:5.2f}\".format(time.time() - start_time))\n",
    "print(\"# clauses: {}\".format(len(destiny.args)))\n",
    "print(\"# symbols: {}\".format(destiny.count(Symbol)))"
   ],
   "id": "7190e5dded695d90",
   "outputs": [],
   "execution_count": null
  },
  {
   "metadata": {},
   "cell_type": "code",
   "source": [
    "print(\"\\nCore\")\n",
    "start_time = time.time()\n",
    "core = BooN.destify(destiny)\n",
    "print(\"Runtime: {:5.2f}\".format(time.time() - start_time))"
   ],
   "id": "5e9da88d9ac3f02a",
   "outputs": [],
   "execution_count": null
  },
  {
   "metadata": {},
   "cell_type": "markdown",
   "source": "From the core, we finally derive the potential freeze actions as a pair (gene, freeze action) to gain the apoptosis.",
   "id": "43326d520445abbb"
  },
  {
   "metadata": {},
   "cell_type": "code",
   "source": [
    "print(\"\\nActions\")  # Transform the core into actions.\n",
    "actions = core2actions(core)\n",
    "print(tabulate(actions))"
   ],
   "id": "47b6a7d6186441e2",
   "outputs": [],
   "execution_count": null
  }
 ],
 "metadata": {
  "kernelspec": {
   "display_name": "Python 3",
   "language": "python",
   "name": "python3"
  },
  "language_info": {
   "codemirror_mode": {
    "name": "ipython",
    "version": 2
   },
   "file_extension": ".py",
   "mimetype": "text/x-python",
   "name": "python",
   "nbconvert_exporter": "python",
   "pygments_lexer": "ipython2",
   "version": "2.7.6"
  }
 },
 "nbformat": 4,
 "nbformat_minor": 5
}
