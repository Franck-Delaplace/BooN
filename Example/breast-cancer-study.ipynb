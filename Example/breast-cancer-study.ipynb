{
 "cells": [
  {
   "metadata": {
    "ExecuteTime": {
     "end_time": "2024-09-24T08:21:43.975755Z",
     "start_time": "2024-09-24T08:20:57.373090Z"
    }
   },
   "cell_type": "code",
   "source": [
    "# BREAST CANCER CAUSES AND DRUG PREDICTION\n",
    "\n",
    "# The program analyzes the cause of breast cancer from a Boolean network datamodel,\n",
    "# namely which genes should be mutated to cause cancer and are they oncogenes (True) or tumor suppressors (False).\n",
    "# Next, the program found the potential therapeutic targets and the actions on them for a cancer caused by  BRCA1 mutation.\n",
    "import time\n",
    "import matplotlib.pyplot as plt\n",
    "from sympy import SOPform, simplify_logic\n",
    "from tabulate import tabulate\n",
    "from boon import *"
   ],
   "id": "f3ede40ad39bd7a3",
   "outputs": [],
   "execution_count": 1
  },
  {
   "metadata": {
    "ExecuteTime": {
     "end_time": "2024-09-24T08:21:44.278324Z",
     "start_time": "2024-09-24T08:21:43.978378Z"
    }
   },
   "cell_type": "code",
   "source": [
    "# Import the breath cancer model from a Bool Net format file.\n",
    "bcn = BooN.from_textfile(\"breast-cancer\")"
   ],
   "id": "53e1034d9075b96b",
   "outputs": [],
   "execution_count": 2
  },
  {
   "metadata": {
    "ExecuteTime": {
     "end_time": "2024-09-24T08:21:44.349312Z",
     "start_time": "2024-09-24T08:21:44.308759Z"
    }
   },
   "cell_type": "code",
   "source": [
    "# Show the Boolean network\n",
    "print(\" - Boolean Network - \")\n",
    "print(bcn)"
   ],
   "id": "81d0751a259b9e04",
   "outputs": [
    {
     "name": "stdout",
     "output_type": "stream",
     "text": [
      " - Boolean Network - \n",
      "ERK12 = EGFR\n",
      "PTEN = p53\n",
      "PARP1 = ERK12\n",
      "EGFR = ¬BRCA1\n",
      "Bcl2 = Akt\n",
      "Bax = p53 ∧ ¬Bcl2\n",
      "Akt = PIK3CA\n",
      "PIK3CA = EGFR ∧ ¬PTEN\n",
      "CycD1 = (ERK12 ∧ ¬GSK3) ∨ (PARP1 ∧ ¬BRCA1)\n",
      "MDM2 = Akt ∧ p53\n",
      "GSK3 = ¬Akt\n",
      "p53 = ¬MDM2 ∧ (BRCA1 ∨ ¬PARP1)\n",
      "BRCA1 = ¬CycD1\n"
     ]
    }
   ],
   "execution_count": 3
  },
  {
   "metadata": {
    "ExecuteTime": {
     "end_time": "2024-09-24T08:21:44.399613Z",
     "start_time": "2024-09-24T08:21:44.366414Z"
    }
   },
   "cell_type": "code",
   "source": [
    "# print all the genes.\n",
    "print(\"\\n\", \"List of genes: \", bcn.variables)"
   ],
   "id": "b2603dadc91597f",
   "outputs": [
    {
     "name": "stdout",
     "output_type": "stream",
     "text": [
      "\n",
      " List of genes:  {ERK12, PTEN, PARP1, EGFR, Bcl2, Bax, Akt, PIK3CA, CycD1, MDM2, GSK3, p53, BRCA1}\n"
     ]
    }
   ],
   "execution_count": 4
  },
  {
   "metadata": {
    "ExecuteTime": {
     "end_time": "2024-09-24T08:21:45.838230Z",
     "start_time": "2024-09-24T08:21:44.437387Z"
    }
   },
   "cell_type": "code",
   "source": [
    "# Compute the stable states.\n",
    "print(\"\\n\" * 2, \" - Stable States -\")\n",
    "stable_states = bcn.stable_states\n",
    "print(tabulate(stable_states, headers='keys', tablefmt='plain'))"
   ],
   "id": "c0b36de225900b3a",
   "outputs": [
    {
     "name": "stdout",
     "output_type": "stream",
     "text": [
      "\n",
      "\n",
      "  - Stable States -\n",
      "CycD1    PARP1    PIK3CA    PTEN    GSK3    Bax    EGFR    Akt    Bcl2    BRCA1    MDM2    p53    ERK12\n",
      "False    False    False     True    True    True   False   False  False   True     False   True   False\n",
      "True     True     True      False   False   False  True    True   True    False    False   False  True\n"
     ]
    }
   ],
   "execution_count": 5
  },
  {
   "metadata": {
    "ExecuteTime": {
     "end_time": "2024-09-24T08:21:45.868794Z",
     "start_time": "2024-09-24T08:21:45.842250Z"
    }
   },
   "cell_type": "code",
   "source": [
    "# *** Controllability analysis\n",
    "# Define the biomarkers\n",
    "CycD1, Bax = symbols(\"CycD1 Bax\")\n",
    "biomarkers = {CycD1, Bax}\n",
    "\n",
    "# Characterize a marking corresponding to the apoptosis\n",
    "marking = {CycD1: False, Bax: True}\n",
    "print(\"Apoptosis biomarkers\")\n",
    "print(tabulate([marking], headers='keys', tablefmt='plain'))"
   ],
   "id": "2296482af1101de7",
   "outputs": [
    {
     "name": "stdout",
     "output_type": "stream",
     "text": [
      "Apoptosis biomarkers\n",
      "CycD1    Bax\n",
      "False    True\n"
     ]
    }
   ],
   "execution_count": 6
  },
  {
   "metadata": {
    "ExecuteTime": {
     "end_time": "2024-09-24T08:21:45.971904Z",
     "start_time": "2024-09-24T08:21:45.872793Z"
    }
   },
   "cell_type": "code",
   "source": [
    "# convert the marking into a formula\n",
    "apoptosis_marking = SOPform(biomarkers, [marking])\n",
    "\n",
    "# Set the marking formula of cancer forbidding the apoptosis, that is the negation of apoptosis query, A cell therefore cannot die defining a hallmark of cancer. \n",
    "kquery = simplify_logic(~apoptosis_marking, force=True)\n",
    "\n",
    "print(\"Disease query, prevent apoptosis: \", kquery)"
   ],
   "id": "217179af84206663",
   "outputs": [
    {
     "name": "stdout",
     "output_type": "stream",
     "text": [
      "Disease query, prevent apoptosis:  CycD1 | ~Bax\n"
     ]
    }
   ],
   "execution_count": 7
  },
  {
   "metadata": {
    "ExecuteTime": {
     "end_time": "2024-09-24T08:21:46.059007Z",
     "start_time": "2024-09-24T08:21:46.008920Z"
    }
   },
   "cell_type": "code",
   "source": [
    "# Define the variables where the control can be applied to force the variable to True (1) or False (0).\n",
    "# A variable can have both controls.\n",
    "# The biomarkers are always excluded from the control since they are observers and cannot be directly controlled.\n",
    "frozenvars0 = frozenvars1 = bcn.variables - biomarkers\n",
    "print(\"Frozen variables\")\n",
    "print(tabulate([frozenvars0, frozenvars1], tablefmt='grid'))"
   ],
   "id": "4497b56b04096262",
   "outputs": [
    {
     "name": "stdout",
     "output_type": "stream",
     "text": [
      "Frozen variables\n",
      "+-------+------+-------+------+------+-----+--------+------+------+-----+-------+\n",
      "| ERK12 | PTEN | PARP1 | EGFR | Bcl2 | Akt | PIK3CA | MDM2 | GSK3 | p53 | BRCA1 |\n",
      "+-------+------+-------+------+------+-----+--------+------+------+-----+-------+\n",
      "| ERK12 | PTEN | PARP1 | EGFR | Bcl2 | Akt | PIK3CA | MDM2 | GSK3 | p53 | BRCA1 |\n",
      "+-------+------+-------+------+------+-----+--------+------+------+-----+-------+\n"
     ]
    }
   ],
   "execution_count": 8
  },
  {
   "metadata": {
    "ExecuteTime": {
     "end_time": "2024-09-24T08:21:46.306038Z",
     "start_time": "2024-09-24T08:21:46.089302Z"
    }
   },
   "cell_type": "code",
   "source": [
    "# Copy the network and fix the control on it. The control consists in adding control parameters (_u0<var>, _u1<var>) to formulas. \n",
    "bcc = bcn.copy()\n",
    "bcc.control(frozenvars0, frozenvars1)\n",
    "\n",
    "print(\"\\n- Controlled Network -\")\n",
    "print(bcc)\n",
    "\n",
    "# Specification of the query that the biological network necessary reach whatever the stable state.\n",
    "# The necessity stipulates that all the stable stables must meet the query."
   ],
   "id": "d2613e93ae70e719",
   "outputs": [
    {
     "name": "stdout",
     "output_type": "stream",
     "text": [
      "\n",
      "- Controlled Network -\n",
      "ERK12 = ¬_u1ERK12 ∨ (EGFR ∧ _u0ERK12)\n",
      "PTEN = ¬_u1PTEN ∨ (_u0PTEN ∧ p53)\n",
      "PARP1 = ¬_u1PARP1 ∨ (ERK12 ∧ _u0PARP1)\n",
      "EGFR = ¬_u1EGFR ∨ (_u0EGFR ∧ ¬BRCA1)\n",
      "Bcl2 = ¬_u1Bcl2 ∨ (Akt ∧ _u0Bcl2)\n",
      "Bax = p53 ∧ ¬Bcl2\n",
      "Akt = ¬_u1Akt ∨ (PIK3CA ∧ _u0Akt)\n",
      "PIK3CA = ¬_u1PIK3CA ∨ (EGFR ∧ _u0PIK3CA ∧ ¬PTEN)\n",
      "CycD1 = (ERK12 ∧ ¬GSK3) ∨ (PARP1 ∧ ¬BRCA1)\n",
      "MDM2 = ¬_u1MDM2 ∨ (Akt ∧ _u0MDM2 ∧ p53)\n",
      "GSK3 = ¬_u1GSK3 ∨ (_u0GSK3 ∧ ¬Akt)\n",
      "p53 = ¬_u1p53 ∨ (_u0p53 ∧ ¬MDM2 ∧ (BRCA1 ∨ ¬PARP1))\n",
      "BRCA1 = ¬_u1BRCA1 ∨ (_u0BRCA1 ∧ ¬CycD1)\n"
     ]
    }
   ],
   "execution_count": 9
  },
  {
   "metadata": {
    "ExecuteTime": {
     "end_time": "2024-09-24T08:23:38.813757Z",
     "start_time": "2024-09-24T08:21:46.342412Z"
    }
   },
   "cell_type": "code",
   "source": [
    "print(\"\\nQuery: Necessary avoid the apoptosis.\")\n",
    "print(\"/!\\\\ Around 3500 models are scanned. Be patient please.\")\n",
    "start_time = time.time()\n",
    "destiny = bcc.necessary(kquery, trace=True)  # activate the trace to see the evolution of the computation.\n",
    "print(\"Runtime..: {:5.2f}\".format(time.time() - start_time))\n",
    "print(\"# clauses: {}\".format(len(destiny.args)))\n",
    "print(\"# symbols: {}\".format(destiny.count(Symbol)))"
   ],
   "id": "1afdcb368391a99e",
   "outputs": [
    {
     "name": "stdout",
     "output_type": "stream",
     "text": [
      "\n",
      "Query: Necessary avoid the apoptosis.\n",
      "/!\\ Around 3500 models are scanned. Be patient please.\n",
      "BooN >> # models:[ 3451]\n",
      "BooN >> CNF formatting: 100% |██████████████████████[3451  - 00:19 - 175.78it/s]\n",
      "Runtime..: 112.16\n",
      "# clauses: 3451\n",
      "# symbols: 53484\n"
     ]
    }
   ],
   "execution_count": 10
  },
  {
   "metadata": {
    "ExecuteTime": {
     "end_time": "2024-09-24T08:23:52.135479Z",
     "start_time": "2024-09-24T08:23:38.813757Z"
    }
   },
   "cell_type": "code",
   "source": [
    "print(\"\\nCore\")\n",
    "print(\"About 10 solutions.\")\n",
    "# Compute the core.\n",
    "start_time = time.time()\n",
    "core = BooN.destify(destiny, trace=True)\n",
    "print(\"Runtime: {:5.2f}\".format(time.time() - start_time))"
   ],
   "id": "efd8378dd16e55ea",
   "outputs": [
    {
     "name": "stdout",
     "output_type": "stream",
     "text": [
      "\n",
      "Core\n",
      "About 10 solutions.\n",
      "BooN >> # solutions:[  9]                      \n",
      "Runtime: 13.30\n"
     ]
    }
   ],
   "execution_count": 11
  },
  {
   "metadata": {
    "ExecuteTime": {
     "end_time": "2024-09-24T08:23:52.147400Z",
     "start_time": "2024-09-24T08:23:52.137497Z"
    }
   },
   "cell_type": "code",
   "source": [
    "print(\"\\nActions\")  # Transform the core into actions.\n",
    "actions = core2actions(core)\n",
    "print(tabulate(actions))"
   ],
   "id": "f9bf80f24ac13066",
   "outputs": [
    {
     "name": "stdout",
     "output_type": "stream",
     "text": [
      "\n",
      "Actions\n",
      "--------------  -------------\n",
      "(MDM2, True)\n",
      "(Bcl2, True)\n",
      "(p53, False)\n",
      "(BRCA1, False)\n",
      "(Akt, True)\n",
      "(PIK3CA, True)\n",
      "(GSK3, False)   (ERK12, True)\n",
      "(EGFR, True)    (GSK3, False)\n",
      "(EGFR, True)    (PTEN, False)\n",
      "--------------  -------------\n"
     ]
    }
   ],
   "execution_count": 12
  },
  {
   "metadata": {
    "ExecuteTime": {
     "end_time": "2024-09-24T08:23:52.163559Z",
     "start_time": "2024-09-24T08:23:52.147400Z"
    }
   },
   "cell_type": "code",
   "source": [
    "# We define a situation of cancer with BRCA1 mutation.\n",
    "print(\"\\n\" * 2, \" - Mutate BRCA1  -\")\n",
    "BRCA1 = symbols(\"BRCA1\")\n",
    "bcn.desc[BRCA1] = False\n",
    "\n",
    "print(\"Mutated network.\")\n",
    "print(bcn)"
   ],
   "id": "681dde44c6ff5efa",
   "outputs": [
    {
     "name": "stdout",
     "output_type": "stream",
     "text": [
      "\n",
      "\n",
      "  - Mutate BRCA1  -\n",
      "Mutated network.\n",
      "ERK12 = EGFR\n",
      "PTEN = p53\n",
      "PARP1 = ERK12\n",
      "EGFR = ¬BRCA1\n",
      "Bcl2 = Akt\n",
      "Bax = p53 ∧ ¬Bcl2\n",
      "Akt = PIK3CA\n",
      "PIK3CA = EGFR ∧ ¬PTEN\n",
      "CycD1 = (ERK12 ∧ ¬GSK3) ∨ (PARP1 ∧ ¬BRCA1)\n",
      "MDM2 = Akt ∧ p53\n",
      "GSK3 = ¬Akt\n",
      "p53 = ¬MDM2 ∧ (BRCA1 ∨ ¬PARP1)\n",
      "BRCA1 = false\n"
     ]
    }
   ],
   "execution_count": 13
  },
  {
   "metadata": {
    "ExecuteTime": {
     "end_time": "2024-09-24T08:23:52.186825Z",
     "start_time": "2024-09-24T08:23:52.166068Z"
    }
   },
   "cell_type": "code",
   "source": [
    "# copy the network and apply control\n",
    "# Remove the mutated gene from the controlled variable since no modifications is possible.\n",
    "frozenvars0 = frozenvars1 = frozenvars0 - {BRCA1}\n",
    "bndrug = bcn.copy()  # fix control on a new instance of bcn.\n",
    "bndrug.control(frozenvars0, frozenvars1)"
   ],
   "id": "dc569946f301c83b",
   "outputs": [
    {
     "data": {
      "text/plain": [
       "<boon.BooN at 0x2b1ab832810>"
      ]
     },
     "execution_count": 14,
     "metadata": {},
     "output_type": "execute_result"
    }
   ],
   "execution_count": 14
  },
  {
   "metadata": {
    "ExecuteTime": {
     "end_time": "2024-09-24T08:23:52.205198Z",
     "start_time": "2024-09-24T08:23:52.186825Z"
    }
   },
   "cell_type": "code",
   "source": [
    "# The issue is now to possibly find the actions inducing the apoptosis to deduce the therapeutic targets.\n",
    "# The possibility stipulates that at least a stable state fulfills the query property.\n",
    "# the possibility operation is faster to generate than the necessity.\n",
    "print(\"\\nQuery : Possibly lead to apoptosis.\")\n",
    "\n",
    "start_time = time.time()\n",
    "destiny = bndrug.possibly(apoptosis_marking)\n",
    "print(\"Runtime..: {:5.2f}\".format(time.time() - start_time))\n",
    "print(\"# clauses: {}\".format(len(destiny.args)))\n",
    "print(\"# symbols: {}\".format(destiny.count(Symbol)))"
   ],
   "id": "7190e5dded695d90",
   "outputs": [
    {
     "name": "stdout",
     "output_type": "stream",
     "text": [
      "\n",
      "Query : Possibly lead to apoptosis.\n",
      "Runtime..:  0.01\n",
      "# clauses: 15\n",
      "# symbols: 55\n"
     ]
    }
   ],
   "execution_count": 15
  },
  {
   "metadata": {
    "ExecuteTime": {
     "end_time": "2024-09-24T08:23:52.775371Z",
     "start_time": "2024-09-24T08:23:52.205198Z"
    }
   },
   "cell_type": "code",
   "source": [
    "print(\"\\nCore\")\n",
    "start_time = time.time()\n",
    "core = BooN.destify(destiny)\n",
    "print(\"Runtime: {:5.2f}\".format(time.time() - start_time))"
   ],
   "id": "5e9da88d9ac3f02a",
   "outputs": [
    {
     "name": "stdout",
     "output_type": "stream",
     "text": [
      "\n",
      "Core\n",
      "Runtime:  0.56\n"
     ]
    }
   ],
   "execution_count": 16
  },
  {
   "metadata": {
    "ExecuteTime": {
     "end_time": "2024-09-24T08:23:52.786743Z",
     "start_time": "2024-09-24T08:23:52.776877Z"
    }
   },
   "cell_type": "code",
   "source": [
    "print(\"\\nActions\")  # Transform the core into actions.\n",
    "actions = core2actions(core)\n",
    "print(tabulate(actions))"
   ],
   "id": "47b6a7d6186441e2",
   "outputs": [
    {
     "name": "stdout",
     "output_type": "stream",
     "text": [
      "\n",
      "Actions\n",
      "--------------\n",
      "(EGFR, False)\n",
      "(PARP1, False)\n",
      "(ERK12, False)\n",
      "--------------\n"
     ]
    }
   ],
   "execution_count": 17
  },
  {
   "metadata": {
    "ExecuteTime": {
     "end_time": "2024-09-24T08:23:53.401306Z",
     "start_time": "2024-09-24T08:23:52.786743Z"
    }
   },
   "cell_type": "code",
   "source": [
    "print(\"Interaction Graph\")\n",
    "# interaction graph\n",
    "bcn.draw_IG()\n",
    "plt.show()  # Show the interaction graph"
   ],
   "id": "5a2c2faf07c1bf70",
   "outputs": [
    {
     "name": "stdout",
     "output_type": "stream",
     "text": [
      "Interaction Graph\n"
     ]
    },
    {
     "data": {
      "text/plain": [
       "<Figure size 640x480 with 1 Axes>"
      ],
      "image/png": "[encoded data removed]"
     },
     "metadata": {},
     "output_type": "display_data"
    }
   ],
   "execution_count": 18
  }
 ],
 "metadata": {
  "kernelspec": {
   "display_name": "Python 3",
   "language": "python",
   "name": "python3"
  },
  "language_info": {
   "codemirror_mode": {
    "name": "ipython",
    "version": 2
   },
   "file_extension": ".py",
   "mimetype": "text/x-python",
   "name": "python",
   "nbconvert_exporter": "python",
   "pygments_lexer": "ipython2",
   "version": "2.7.6"
  }
 },
 "nbformat": 4,
 "nbformat_minor": 5
}
