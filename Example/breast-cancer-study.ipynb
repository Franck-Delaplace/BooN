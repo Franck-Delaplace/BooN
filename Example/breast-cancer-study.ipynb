{
 "cells": [
  {
   "metadata": {},
   "cell_type": "code",
   "source": [
    "# BREAST CANCER CAUSES AND DRUG PREDICTION\n",
    "\n",
    "# The program analyzes the cause of breast cancer from a Boolean network datamodel,\n",
    "# namely which genes should be mutated to cause cancer and are they oncogenes (True) or tumor suppressors (False).\n",
    "# Next, the program found the potential therapeutic targets and the actions on them for a cancer caused by  BRCA1 mutation.\n",
    "import time\n",
    "import matplotlib.pyplot as plt\n",
    "from sympy import SOPform, simplify_logic\n",
    "from tabulate import tabulate\n",
    "from boon import *"
   ],
   "id": "f3ede40ad39bd7a3",
   "outputs": [],
   "execution_count": null
  },
  {
   "metadata": {},
   "cell_type": "code",
   "source": [
    "# Import the breath cancer model from a Bool Net format file.\n",
    "bcn = BooN.from_textfile(\"breast-cancer\")"
   ],
   "id": "53e1034d9075b96b",
   "outputs": [],
   "execution_count": null
  },
  {
   "metadata": {},
   "cell_type": "code",
   "source": [
    "# Show the Boolean network\n",
    "print(\" - Boolean Network - \")\n",
    "print(bcn)"
   ],
   "id": "81d0751a259b9e04",
   "outputs": [],
   "execution_count": null
  },
  {
   "metadata": {},
   "cell_type": "code",
   "source": [
    "# print all the genes.\n",
    "print(\"\\n\", \"List of genes: \", bcn.variables)"
   ],
   "id": "b2603dadc91597f",
   "outputs": [],
   "execution_count": null
  },
  {
   "metadata": {},
   "cell_type": "code",
   "source": [
    "# Compute the stable states.\n",
    "print(\"\\n\" * 2, \" - Stable States -\")\n",
    "stable_states = bcn.stable_states\n",
    "print(tabulate(stable_states, headers='keys', tablefmt='plain'))"
   ],
   "id": "c0b36de225900b3a",
   "outputs": [],
   "execution_count": null
  },
  {
   "metadata": {},
   "cell_type": "code",
   "source": [
    "# *** Controllability analysis\n",
    "# Define the biomarkers\n",
    "CycD1, Bax = symbols(\"CycD1 Bax\")\n",
    "biomarkers = {CycD1, Bax}\n",
    "\n",
    "# Characterize a marking corresponding to the apoptosis\n",
    "marking = {CycD1: False, Bax: True}\n",
    "print(\"Apoptosis biomarkers\")\n",
    "print(tabulate([marking], headers='keys', tablefmt='plain'))"
   ],
   "id": "2296482af1101de7",
   "outputs": [],
   "execution_count": null
  },
  {
   "metadata": {},
   "cell_type": "code",
   "source": [
    "# convert the marking into a formula\n",
    "apoptosis_marking = SOPform(biomarkers, [marking])\n",
    "\n",
    "# Set the marking formula of cancer forbidding the apoptosis, that is the negation of apoptosis query, A cell therefore cannot die.\n",
    "kquery = simplify_logic(~apoptosis_marking, force=True)\n",
    "\n",
    "print(\"Disease query, apoptosis forbidden: \", kquery)"
   ],
   "id": "217179af84206663",
   "outputs": [],
   "execution_count": null
  },
  {
   "metadata": {},
   "cell_type": "code",
   "source": [
    "# Define the variables where a control can be applied to force the variable to True (1) or False (0).\n",
    "# A variable can have both controls.\n",
    "# The biomarkers are always excluded from the control since they are observers.\n",
    "frozenvars0 = frozenvars1 = bcn.variables - biomarkers\n",
    "print(\"Frozen variables\")\n",
    "print(tabulate([frozenvars0, frozenvars1], tablefmt='grid'))"
   ],
   "id": "4497b56b04096262",
   "outputs": [],
   "execution_count": null
  },
  {
   "metadata": {},
   "cell_type": "code",
   "source": [
    "# Copy the network and fix the control on it.\n",
    "bcc = bcn.copy()\n",
    "bcc.control(frozenvars0, frozenvars1)\n",
    "\n",
    "print(\"\\nControlled Network\")\n",
    "print(bcc)\n",
    "\n",
    "# Specification of the query that the biological network necessary reach whatever the stable state.\n",
    "# The necessity stipulates that all the stable stables must meet the query."
   ],
   "id": "d2613e93ae70e719",
   "outputs": [],
   "execution_count": null
  },
  {
   "metadata": {},
   "cell_type": "code",
   "source": [
    "print(\"\\nQuery: Necessary avoid the apoptosis.\")\n",
    "print(\"/!\\\\ Around 3500 models are scanned. Be patient please.\")\n",
    "start_time = time.time()\n",
    "destiny = bcc.necessary(kquery, trace=True)  # activate the trace to see the evolution of the computation.\n",
    "print(\"Runtime..: {:5.2f}\".format(time.time() - start_time))\n",
    "print(\"# clauses: {}\".format(len(destiny.args)))\n",
    "print(\"# symbols: {}\".format(destiny.count(Symbol)))"
   ],
   "id": "1afdcb368391a99e",
   "outputs": [],
   "execution_count": null
  },
  {
   "metadata": {},
   "cell_type": "code",
   "source": [
    "print(\"\\nCore\")\n",
    "print(\"About 10 solutions.\")\n",
    "# Compute the core.\n",
    "start_time = time.time()\n",
    "core = BooN.destify(destiny, trace=True)\n",
    "print(\"Runtime: {:5.2f}\".format(time.time() - start_time))"
   ],
   "id": "efd8378dd16e55ea",
   "outputs": [],
   "execution_count": null
  },
  {
   "metadata": {},
   "cell_type": "code",
   "source": [
    "print(\"\\nActions\")  # Transform the core into actions.\n",
    "actions = core2actions(core)\n",
    "print(tabulate(actions))"
   ],
   "id": "f9bf80f24ac13066",
   "outputs": [],
   "execution_count": null
  },
  {
   "metadata": {},
   "cell_type": "code",
   "source": [
    "# We define a situation of cancer with BRCA1 mutation.\n",
    "print(\"\\n\" * 2, \" - Mutate BRCA1  -\")\n",
    "BRCA1 = symbols(\"BRCA1\")\n",
    "bcn.desc[BRCA1] = False\n",
    "\n",
    "print(\"Mutated network.\")\n",
    "print(bcn)"
   ],
   "id": "681dde44c6ff5efa",
   "outputs": [],
   "execution_count": null
  },
  {
   "metadata": {},
   "cell_type": "code",
   "source": [
    "# copy the network and apply control\n",
    "# Remove the mutated gene from the controlled variable since no modifications is possible.\n",
    "frozenvars0 = frozenvars1 = frozenvars0 - {BRCA1}\n",
    "bndrug = bcn.copy()  # fix control on a new instance of bcn.\n",
    "bndrug.control(frozenvars0, frozenvars1)"
   ],
   "id": "dc569946f301c83b",
   "outputs": [],
   "execution_count": null
  },
  {
   "metadata": {},
   "cell_type": "code",
   "source": [
    "# The issue is now to possibly find the actions inducing the apoptosis to deduce the therapeutic targets.\n",
    "# The possibility stipulates that at least a stable state fulfills the query property.\n",
    "# the possibility operation is faster to generate than the necessity.\n",
    "print(\"\\nQuery : Possibly lead to apoptosis.\")\n",
    "\n",
    "start_time = time.time()\n",
    "destiny = bndrug.possibly(apoptosis_marking)\n",
    "print(\"Runtime..: {:5.2f}\".format(time.time() - start_time))\n",
    "print(\"# clauses: {}\".format(len(destiny.args)))\n",
    "print(\"# symbols: {}\".format(destiny.count(Symbol)))"
   ],
   "id": "7190e5dded695d90",
   "outputs": [],
   "execution_count": null
  },
  {
   "metadata": {},
   "cell_type": "code",
   "source": [
    "print(\"\\nCore\")\n",
    "start_time = time.time()\n",
    "core = BooN.destify(destiny)\n",
    "print(\"Runtime: {:5.2f}\".format(time.time() - start_time))"
   ],
   "id": "5e9da88d9ac3f02a",
   "outputs": [],
   "execution_count": null
  },
  {
   "metadata": {},
   "cell_type": "code",
   "source": [
    "print(\"\\nActions\")  # Transform the core into actions.\n",
    "actions = core2actions(core)\n",
    "print(tabulate(actions))"
   ],
   "id": "47b6a7d6186441e2",
   "outputs": [],
   "execution_count": null
  },
  {
   "metadata": {},
   "cell_type": "code",
   "source": [
    "print(\"Interaction Graph\")\n",
    "# interaction graph\n",
    "bcn.draw_IG()\n",
    "plt.show()  # Show the interaction graph"
   ],
   "id": "5a2c2faf07c1bf70",
   "outputs": [],
   "execution_count": null
  }
 ],
 "metadata": {
  "kernelspec": {
   "display_name": "Python 3",
   "language": "python",
   "name": "python3"
  },
  "language_info": {
   "codemirror_mode": {
    "name": "ipython",
    "version": 2
   },
   "file_extension": ".py",
   "mimetype": "text/x-python",
   "name": "python",
   "nbconvert_exporter": "python",
   "pygments_lexer": "ipython2",
   "version": "2.7.6"
  }
 },
 "nbformat": 4,
 "nbformat_minor": 5
}
