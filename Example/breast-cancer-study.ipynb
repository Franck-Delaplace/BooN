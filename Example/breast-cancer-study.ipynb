{
 "cells": [
  {
   "metadata": {
    "ExecuteTime": {
     "end_time": "2024-09-20T13:15:31.853221Z",
     "start_time": "2024-09-20T13:15:31.845082Z"
    }
   },
   "cell_type": "code",
   "source": [
    "# BREATH CANCER CAUSES AND DRUG PREDICTION\n",
    "\n",
    "# The program analyzes the cause of breath cancer from a Boolean network datamodel,\n",
    "# namely which genes should be mutated to cause cancer and are they oncogenes (True) or tumor suppressors (False).\n",
    "# Next, the program found the potential therapeutic targets and the actions on them for a cancer caused by  BRCA1 mutation.\n",
    "import time\n",
    "import matplotlib.pyplot as plt\n",
    "from sympy import SOPform, simplify_logic\n",
    "from tabulate import tabulate\n",
    "from boon import *"
   ],
   "id": "f3ede40ad39bd7a3",
   "outputs": [],
   "execution_count": 4
  },
  {
   "metadata": {
    "ExecuteTime": {
     "end_time": "2024-09-20T13:15:34.620717Z",
     "start_time": "2024-09-20T13:15:34.577817Z"
    }
   },
   "cell_type": "code",
   "source": [
    "# Read the Boolean network from a text file.\n",
    "bcn = BooN()\n",
    "bcn.from_textfile(\"breast-cancer\")"
   ],
   "id": "53e1034d9075b96b",
   "outputs": [
    {
     "data": {
      "text/plain": [
       "<boon.BooN at 0x2dbb4ca8f80>"
      ]
     },
     "execution_count": 5,
     "metadata": {},
     "output_type": "execute_result"
    }
   ],
   "execution_count": 5
  },
  {
   "metadata": {
    "ExecuteTime": {
     "end_time": "2024-09-20T13:04:40.533721Z",
     "start_time": "2024-09-20T13:04:40.518408Z"
    }
   },
   "cell_type": "code",
   "source": [
    "# Show the Boolean network\n",
    "print(\" - Boolean Network - \")\n",
    "print(bcn)"
   ],
   "id": "81d0751a259b9e04",
   "outputs": [
    {
     "name": "stdout",
     "output_type": "stream",
     "text": [
      " - Boolean Network - \n",
      "Akt = PIK3CA\n",
      "PTEN = p53\n",
      "BRCA1 = ¬CycD1\n",
      "MDM2 = Akt ∧ p53\n",
      "Bcl2 = Akt\n",
      "Bax = p53 ∧ ¬Bcl2\n",
      "PARP1 = ERK12\n",
      "target = factors\n",
      "EGFR = ¬BRCA1\n",
      "CycD1 = (ERK12 ∧ ¬GSK3) ∨ (PARP1 ∧ ¬BRCA1)\n",
      "ERK12 = EGFR\n",
      "GSK3 = ¬Akt\n",
      "PIK3CA = EGFR ∧ ¬PTEN\n",
      "p53 = ¬MDM2 ∧ (BRCA1 ∨ ¬PARP1)\n"
     ]
    }
   ],
   "execution_count": 2
  },
  {
   "metadata": {
    "ExecuteTime": {
     "end_time": "2024-09-20T13:15:42.048698Z",
     "start_time": "2024-09-20T13:15:42.037966Z"
    }
   },
   "cell_type": "code",
   "source": [
    "# print all the genes.\n",
    "print(\"\\n\", \"List of genes: \", bcn.variables)"
   ],
   "id": "b2603dadc91597f",
   "outputs": [
    {
     "name": "stdout",
     "output_type": "stream",
     "text": [
      "\n",
      " List of genes:  {ERK12, PIK3CA, Bax, EGFR, p53, PTEN, PARP1, BRCA1, CycD1, GSK3, Akt, MDM2, Bcl2}\n"
     ]
    }
   ],
   "execution_count": 6
  },
  {
   "metadata": {
    "ExecuteTime": {
     "end_time": "2024-09-20T13:15:47.795617Z",
     "start_time": "2024-09-20T13:15:47.627684Z"
    }
   },
   "cell_type": "code",
   "source": [
    "# Compute the stable states.\n",
    "print(\"\\n\" * 2, \" - Stable States -\")\n",
    "stable_states = bcn.stable_states\n",
    "print(tabulate(stable_states, headers='keys', tablefmt='plain'))"
   ],
   "id": "c0b36de225900b3a",
   "outputs": [
    {
     "name": "stdout",
     "output_type": "stream",
     "text": [
      "\n",
      "\n",
      "  - Stable States -\n",
      "CycD1    PARP1    PIK3CA    PTEN    GSK3    Bax    EGFR    Akt    Bcl2    BRCA1    MDM2    p53    ERK12\n",
      "False    False    False     True    True    True   False   False  False   True     False   True   False\n",
      "True     True     True      False   False   False  True    True   True    False    False   False  True\n"
     ]
    }
   ],
   "execution_count": 7
  },
  {
   "metadata": {
    "ExecuteTime": {
     "end_time": "2024-09-20T13:15:50.783513Z",
     "start_time": "2024-09-20T13:15:50.766384Z"
    }
   },
   "cell_type": "code",
   "source": [
    "# *** Controllability analysis\n",
    "# Define the biomarkers\n",
    "CycD1, Bax = symbols(\"CycD1 Bax\")\n",
    "biomarkers = {CycD1, Bax}\n",
    "\n",
    "# Characterize a marking corresponding to the apoptosis\n",
    "marking = {CycD1: False, Bax: True}\n",
    "print(\"Apoptosis biomarkers\")\n",
    "print(tabulate([marking], headers='keys', tablefmt='plain'))"
   ],
   "id": "2296482af1101de7",
   "outputs": [
    {
     "name": "stdout",
     "output_type": "stream",
     "text": [
      "Apoptosis biomarkers\n",
      "CycD1    Bax\n",
      "False    True\n"
     ]
    }
   ],
   "execution_count": 8
  },
  {
   "metadata": {
    "ExecuteTime": {
     "end_time": "2024-09-20T13:16:58.644521Z",
     "start_time": "2024-09-20T13:16:58.630437Z"
    }
   },
   "cell_type": "code",
   "source": [
    "# convert the marking into a formula\n",
    "apoptosis_marking = SOPform(biomarkers, [marking])\n",
    "\n",
    "# Set the marking formula of cancer forbidding the apoptosis, that is the negation of apoptosis query, A cell therefore cannot die.\n",
    "kquery = simplify_logic(~apoptosis_marking, force=True)\n",
    "\n",
    "print(\"Disease query, apoptosis forbidden: \", kquery)"
   ],
   "id": "217179af84206663",
   "outputs": [
    {
     "name": "stdout",
     "output_type": "stream",
     "text": [
      "Disease query, apoptosis forbidden:  CycD1 | ~Bax\n"
     ]
    }
   ],
   "execution_count": 15
  },
  {
   "metadata": {
    "ExecuteTime": {
     "end_time": "2024-09-20T13:15:57.095567Z",
     "start_time": "2024-09-20T13:15:57.081666Z"
    }
   },
   "cell_type": "code",
   "source": [
    "# Define the variables where a control can be applied to force the variable to True (1) or False (0).\n",
    "# A variable can have both controls.\n",
    "# The biomarkers are always excluded from the control since they are observers.\n",
    "frozenvars0 = frozenvars1 = bcn.variables - biomarkers\n",
    "print(\"Frozen variables\")\n",
    "print(tabulate([frozenvars0, frozenvars1], tablefmt='grid'))"
   ],
   "id": "4497b56b04096262",
   "outputs": [
    {
     "name": "stdout",
     "output_type": "stream",
     "text": [
      "Frozen variables\n",
      "+-------+--------+------+-----+------+-------+-------+------+-----+------+------+\n",
      "| ERK12 | PIK3CA | EGFR | p53 | PTEN | PARP1 | BRCA1 | GSK3 | Akt | MDM2 | Bcl2 |\n",
      "+-------+--------+------+-----+------+-------+-------+------+-----+------+------+\n",
      "| ERK12 | PIK3CA | EGFR | p53 | PTEN | PARP1 | BRCA1 | GSK3 | Akt | MDM2 | Bcl2 |\n",
      "+-------+--------+------+-----+------+-------+-------+------+-----+------+------+\n"
     ]
    }
   ],
   "execution_count": 9
  },
  {
   "metadata": {
    "ExecuteTime": {
     "end_time": "2024-09-20T13:16:00.272106Z",
     "start_time": "2024-09-20T13:16:00.247530Z"
    }
   },
   "cell_type": "code",
   "source": [
    "# Copy the network and fix the control on it.\n",
    "bcc = bcn.copy()\n",
    "bcc.control(frozenvars0, frozenvars1)\n",
    "\n",
    "print(\"\\nControlled Network\")\n",
    "print(bcc)\n",
    "\n",
    "# Specification of the query that the biological network necessary reach whatever the stable state.\n",
    "# The necessity stipulates that all the stable stables must meet the query."
   ],
   "id": "d2613e93ae70e719",
   "outputs": [
    {
     "name": "stdout",
     "output_type": "stream",
     "text": [
      "\n",
      "Controlled Network\n",
      "ERK12 = ¬_u1ERK12 ∨ (EGFR ∧ _u0ERK12)\n",
      "PIK3CA = ¬_u1PIK3CA ∨ (EGFR ∧ _u0PIK3CA ∧ ¬PTEN)\n",
      "Bax = p53 ∧ ¬Bcl2\n",
      "EGFR = ¬_u1EGFR ∨ (_u0EGFR ∧ ¬BRCA1)\n",
      "p53 = ¬_u1p53 ∨ (_u0p53 ∧ ¬MDM2 ∧ (BRCA1 ∨ ¬PARP1))\n",
      "PTEN = ¬_u1PTEN ∨ (_u0PTEN ∧ p53)\n",
      "PARP1 = ¬_u1PARP1 ∨ (ERK12 ∧ _u0PARP1)\n",
      "BRCA1 = ¬_u1BRCA1 ∨ (_u0BRCA1 ∧ ¬CycD1)\n",
      "CycD1 = (ERK12 ∧ ¬GSK3) ∨ (PARP1 ∧ ¬BRCA1)\n",
      "GSK3 = ¬_u1GSK3 ∨ (_u0GSK3 ∧ ¬Akt)\n",
      "Akt = ¬_u1Akt ∨ (PIK3CA ∧ _u0Akt)\n",
      "MDM2 = ¬_u1MDM2 ∨ (Akt ∧ _u0MDM2 ∧ p53)\n",
      "Bcl2 = ¬_u1Bcl2 ∨ (Akt ∧ _u0Bcl2)\n"
     ]
    }
   ],
   "execution_count": 10
  },
  {
   "metadata": {
    "ExecuteTime": {
     "end_time": "2024-09-20T13:18:06.216833Z",
     "start_time": "2024-09-20T13:17:11.676026Z"
    }
   },
   "cell_type": "code",
   "source": [
    "print(\"\\nQuery: Necessary avoid the apoptosis.\")\n",
    "print(\"/!\\\\ Around 3500 models are scanned. Be patient please.\")\n",
    "start_time = time.time()\n",
    "destiny = bcc.necessary(kquery, trace=True)  # activate the trace to see the evolution of the computation.\n",
    "print(\"Runtime..: {:5.2f}\".format(time.time() - start_time))\n",
    "print(\"# clauses: {}\".format(len(destiny.args)))\n",
    "print(\"# symbols: {}\".format(destiny.count(Symbol)))"
   ],
   "id": "1afdcb368391a99e",
   "outputs": [
    {
     "name": "stdout",
     "output_type": "stream",
     "text": [
      "\n",
      "Query: Necessary avoid the apoptosis.\n",
      "/!\\ Around 15 000 models are scanned. Be patient please.\n",
      "BooN >> # models:[ 3451]\n",
      "BooN >> CNF formatting: 100% |██████████████████████[3451  - 00:19 - 178.24it/s]\n",
      "Runtime..: 54.16\n",
      "# clauses: 3451\n",
      "# symbols: 53484\n"
     ]
    }
   ],
   "execution_count": 16
  },
  {
   "metadata": {
    "ExecuteTime": {
     "end_time": "2024-09-20T13:18:25.137149Z",
     "start_time": "2024-09-20T13:18:08.302496Z"
    }
   },
   "cell_type": "code",
   "source": [
    "print(\"\\nCore\")\n",
    "# Compute the core.\n",
    "start_time = time.time()\n",
    "core = BooN.destify(destiny, trace=True)\n",
    "print(\"Runtime: {:5.2f}\".format(time.time() - start_time))"
   ],
   "id": "efd8378dd16e55ea",
   "outputs": [
    {
     "name": "stdout",
     "output_type": "stream",
     "text": [
      "\n",
      "Core\n",
      "BooN >> # solutions:[  9]                      \n",
      "Runtime: 16.82\n"
     ]
    }
   ],
   "execution_count": 17
  },
  {
   "metadata": {
    "ExecuteTime": {
     "end_time": "2024-09-20T13:18:28.477670Z",
     "start_time": "2024-09-20T13:18:28.467759Z"
    }
   },
   "cell_type": "code",
   "source": [
    "print(\"\\nActions\")  # Transform the core into actions.\n",
    "actions = core2actions(core)\n",
    "print(tabulate(actions))"
   ],
   "id": "f9bf80f24ac13066",
   "outputs": [
    {
     "name": "stdout",
     "output_type": "stream",
     "text": [
      "\n",
      "Actions\n",
      "--------------  -------------\n",
      "(Akt, True)\n",
      "(MDM2, True)\n",
      "(PIK3CA, True)\n",
      "(Bcl2, True)\n",
      "(p53, False)\n",
      "(BRCA1, False)\n",
      "(EGFR, True)    (GSK3, False)\n",
      "(GSK3, False)   (ERK12, True)\n",
      "(EGFR, True)    (PTEN, False)\n",
      "--------------  -------------\n"
     ]
    }
   ],
   "execution_count": 18
  },
  {
   "metadata": {
    "ExecuteTime": {
     "end_time": "2024-09-20T13:18:38.969728Z",
     "start_time": "2024-09-20T13:18:38.956326Z"
    }
   },
   "cell_type": "code",
   "source": [
    "# We define a situation of cancer with BRCA1 mutation.\n",
    "print(\"\\n\" * 2, \" - Mutate BRCA1  -\")\n",
    "BRCA1 = symbols(\"BRCA1\")\n",
    "bcn.desc[BRCA1] = False\n",
    "\n",
    "print(\"Mutated network.\")\n",
    "print(bcn)"
   ],
   "id": "681dde44c6ff5efa",
   "outputs": [
    {
     "name": "stdout",
     "output_type": "stream",
     "text": [
      "\n",
      "\n",
      "  - Mutate BRCA1  -\n",
      "Mutated network.\n",
      "ERK12 = EGFR\n",
      "PIK3CA = EGFR ∧ ¬PTEN\n",
      "Bax = p53 ∧ ¬Bcl2\n",
      "EGFR = ¬BRCA1\n",
      "p53 = ¬MDM2 ∧ (BRCA1 ∨ ¬PARP1)\n",
      "PTEN = p53\n",
      "PARP1 = ERK12\n",
      "BRCA1 = false\n",
      "CycD1 = (ERK12 ∧ ¬GSK3) ∨ (PARP1 ∧ ¬BRCA1)\n",
      "GSK3 = ¬Akt\n",
      "Akt = PIK3CA\n",
      "MDM2 = Akt ∧ p53\n",
      "Bcl2 = Akt\n"
     ]
    }
   ],
   "execution_count": 19
  },
  {
   "metadata": {
    "ExecuteTime": {
     "end_time": "2024-09-20T13:18:44.156729Z",
     "start_time": "2024-09-20T13:18:44.136033Z"
    }
   },
   "cell_type": "code",
   "source": [
    "# copy the network and apply control\n",
    "# Remove the mutated gene from the controlled variable since no modifications is possible.\n",
    "frozenvars0 = frozenvars1 = frozenvars0 - {BRCA1}\n",
    "bndrug = bcn.copy()  # fix control on a new instance of bcn.\n",
    "bndrug.control(frozenvars0, frozenvars1)"
   ],
   "id": "dc569946f301c83b",
   "outputs": [
    {
     "data": {
      "text/plain": [
       "<boon.BooN at 0x2dbb8a88770>"
      ]
     },
     "execution_count": 20,
     "metadata": {},
     "output_type": "execute_result"
    }
   ],
   "execution_count": 20
  },
  {
   "metadata": {
    "ExecuteTime": {
     "end_time": "2024-09-20T13:18:56.424498Z",
     "start_time": "2024-09-20T13:18:56.410486Z"
    }
   },
   "cell_type": "code",
   "source": [
    "# The issue is now to possibly find the actions inducing the apoptosis to deduce the therapeutic targets.\n",
    "# The possibility stipulates that at least a stable state fulfills the query property.\n",
    "# the possibility operation is faster to generate than the necessity.\n",
    "print(\"\\nQuery : Possibly lead to apoptosis.\")\n",
    "\n",
    "start_time = time.time()\n",
    "destiny = bndrug.possibly(apoptosis_marking)\n",
    "print(\"Runtime..: {:5.2f}\".format(time.time() - start_time))\n",
    "print(\"# clauses: {}\".format(len(destiny.args)))\n",
    "print(\"# symbols: {}\".format(destiny.count(Symbol)))"
   ],
   "id": "7190e5dded695d90",
   "outputs": [
    {
     "name": "stdout",
     "output_type": "stream",
     "text": [
      "\n",
      "Query : Possibly lead to apoptosis.\n",
      "Runtime..:  0.00\n",
      "# clauses: 15\n",
      "# symbols: 55\n"
     ]
    }
   ],
   "execution_count": 21
  },
  {
   "metadata": {
    "ExecuteTime": {
     "end_time": "2024-09-20T13:19:00.622901Z",
     "start_time": "2024-09-20T13:18:59.028120Z"
    }
   },
   "cell_type": "code",
   "source": [
    "print(\"\\nCore\")\n",
    "start_time = time.time()\n",
    "core = BooN.destify(destiny)\n",
    "print(\"Runtime: {:5.2f}\".format(time.time() - start_time))"
   ],
   "id": "5e9da88d9ac3f02a",
   "outputs": [
    {
     "name": "stdout",
     "output_type": "stream",
     "text": [
      "\n",
      "Core\n",
      "Runtime:  1.58\n"
     ]
    }
   ],
   "execution_count": 22
  },
  {
   "metadata": {
    "ExecuteTime": {
     "end_time": "2024-09-20T13:19:04.493425Z",
     "start_time": "2024-09-20T13:19:04.475162Z"
    }
   },
   "cell_type": "code",
   "source": [
    "print(\"\\nActions\")  # Transform the core into actions.\n",
    "actions = core2actions(core)\n",
    "print(tabulate(actions))"
   ],
   "id": "47b6a7d6186441e2",
   "outputs": [
    {
     "name": "stdout",
     "output_type": "stream",
     "text": [
      "\n",
      "Actions\n",
      "--------------\n",
      "(EGFR, False)\n",
      "(PARP1, False)\n",
      "(ERK12, False)\n",
      "--------------\n"
     ]
    }
   ],
   "execution_count": 23
  },
  {
   "metadata": {
    "ExecuteTime": {
     "end_time": "2024-09-20T13:19:08.350776Z",
     "start_time": "2024-09-20T13:19:06.970214Z"
    }
   },
   "cell_type": "code",
   "source": [
    "print(\"Interaction Graph\")\n",
    "# interaction graph\n",
    "bcn.draw_IG()\n",
    "plt.show()  # Show the interaction graph"
   ],
   "id": "5a2c2faf07c1bf70",
   "outputs": [
    {
     "name": "stdout",
     "output_type": "stream",
     "text": [
      "Interaction Graph\n"
     ]
    },
    {
     "data": {
      "text/plain": [
       "<Figure size 640x480 with 1 Axes>"
      ],
      "image/png": "[encoded data removed]"
     },
     "metadata": {},
     "output_type": "display_data"
    }
   ],
   "execution_count": 24
  },
  {
   "metadata": {},
   "cell_type": "code",
   "source": "",
   "id": "aa244c57bcff83a9",
   "outputs": [],
   "execution_count": null
  }
 ],
 "metadata": {
  "kernelspec": {
   "display_name": "Python 3",
   "language": "python",
   "name": "python3"
  },
  "language_info": {
   "codemirror_mode": {
    "name": "ipython",
    "version": 2
   },
   "file_extension": ".py",
   "mimetype": "text/x-python",
   "name": "python",
   "nbconvert_exporter": "python",
   "pygments_lexer": "ipython2",
   "version": "2.7.6"
  }
 },
 "nbformat": 4,
 "nbformat_minor": 5
}
