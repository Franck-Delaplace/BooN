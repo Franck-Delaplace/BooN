{
 "cells": [
  {
   "metadata": {},
   "cell_type": "markdown",
   "source": [
    "<head>\n",
    "    <meta charset=\"UTF-8\">\n",
    "    <meta name=\"viewport\" content=\"width=device-width, initial-scale=1.0\">\n",
    "    <title>Centre un titre</title>\n",
    "    <style>\n",
    "        h1 {\n",
    "            text-align: center;\n",
    "        }\n",
    "    </style>\n",
    "</head>"
   ],
   "id": "2c8e4339700f2cbe"
  },
  {
   "metadata": {},
   "cell_type": "markdown",
   "source": [
    "<h1 align:center>  Breast Cancer: Causes and Drug Target Prediction </h1>\n",
    "\n",
    "The program analyzes the cause of breast cancer from a Boolean network datamodel, namely which genes should be mutated to cause cancer and are they oncogenes (True) or tumor suppressors (False).\n",
    "Next, the program found the potential therapeutic targets and the actions on them for a cancer caused by BRCA1 mutation."
   ],
   "id": "54bbddce1761688a"
  },
  {
   "metadata": {},
   "cell_type": "code",
   "source": [
    "import time\n",
    "import matplotlib.pyplot as plt\n",
    "from sympy import SOPform, simplify_logic\n",
    "from tabulate import tabulate\n",
    "from pulp import PULP_CBC_CMD\n",
    "from boon import *"
   ],
   "id": "f3ede40ad39bd7a3",
   "outputs": [],
   "execution_count": null
  },
  {
   "metadata": {},
   "cell_type": "markdown",
   "source": [
    "## Network model\n",
    "import the network model from a text file. Note that this model also exists in BooN format.\n",
    "Note that in a normal cell, these two phenotypes exist potentially.\n",
    "The model is a Boolean network connecting genes involved in Beast cancer."
   ],
   "id": "a3e171dfade54a41"
  },
  {
   "metadata": {},
   "cell_type": "code",
   "source": [
    "#  Load the breast cancer network model (bcbn). A version of the model in BNet is also available \n",
    "bcbn = BooN.load(\"breast-cancer\")\n",
    "\n",
    "# Show the Boolean network\n",
    "print(bcbn)"
   ],
   "id": "81d0751a259b9e04",
   "outputs": [],
   "execution_count": null
  },
  {
   "metadata": {},
   "cell_type": "markdown",
   "source": "### List of genes",
   "id": "c87040201c27a697"
  },
  {
   "metadata": {},
   "cell_type": "code",
   "source": [
    "# print all the genes.\n",
    "print(bcbn.variables)"
   ],
   "id": "b2603dadc91597f",
   "outputs": [],
   "execution_count": null
  },
  {
   "metadata": {},
   "cell_type": "markdown",
   "source": [
    "### Stable States\n",
    "In this model, two stable states exist that respectively correspond to cell division and apoptosis, identified by the Boolean version of the biomarker states."
   ],
   "id": "342d67d2bca5bd98"
  },
  {
   "metadata": {},
   "cell_type": "code",
   "source": [
    "stable_states = bcbn.stable_states\n",
    "print(tabulate(stable_states, headers='keys', tablefmt='grid'))"
   ],
   "id": "c0b36de225900b3a",
   "outputs": [],
   "execution_count": null
  },
  {
   "metadata": {},
   "cell_type": "markdown",
   "source": "### Interaction Graph",
   "id": "4a08102da1d82ada"
  },
  {
   "metadata": {},
   "cell_type": "code",
   "source": [
    "bcbn.draw_IG()\n",
    "plt.show()  # Show the interaction graph"
   ],
   "id": "355ffeb3297c59b7",
   "outputs": [],
   "execution_count": null
  },
  {
   "metadata": {},
   "cell_type": "markdown",
   "source": [
    "## Cause of Cancer\n",
    "Firstly, to figure out the potential causes of cancer, a controllability analysis is used.\n",
    "This analysis is based on the characterization of biomarkers, which are genes whose states are used to differentiate between phenotypes.\n",
    "These biomarkers are CycD1 and Bax\n",
    "Based on the states of the aforementioned biomarkers. A control query is then defined with the goal of identifying the cause of cancer."
   ],
   "id": "a1c2d6c600bcf21e"
  },
  {
   "metadata": {},
   "cell_type": "markdown",
   "source": [
    "### Characterization of the biomarkers\n",
    "The selected biomarkers are CycD1 and Bax. The Boolean profiles, respectively, correspond to cell division and apoptosis.\n",
    "\n",
    "\n",
    "| CyCD1 | Bax |     *Phenotype* |\n",
    "|:-----:|:---:|----------------:|\n",
    "|   0   |  1  |     *Apoptosis* |\n",
    "|   1   |  0  | *Cell Division* |\n"
   ],
   "id": "1fc34785335a1c70"
  },
  {
   "metadata": {},
   "cell_type": "code",
   "source": [
    "CycD1, Bax = symbols(\"CycD1 Bax\")\n",
    "biomarkers = {CycD1, Bax}"
   ],
   "id": "70961f8dd4db777",
   "outputs": [],
   "execution_count": null
  },
  {
   "metadata": {},
   "cell_type": "markdown",
   "source": [
    "In essence, the model represents the cancerous state as a loss of apoptosis, which is a hallmark of cancer.\n",
    "We will define a query or formula. That delineates the circumstances under which apoptosis cannot be sustained in any stable state."
   ],
   "id": "57b577b3f1dcfa9d"
  },
  {
   "metadata": {},
   "cell_type": "code",
   "source": [
    "# Characterize a marking corresponding to the apoptosis\n",
    "marking = {CycD1: False, Bax: True}\n",
    "# convert the marking into a formula\n",
    "apoptosis_marking = SOPform(biomarkers, [marking])\n",
    "print(\"Apoptosis biomarkers\")\n",
    "print(tabulate([marking], headers='keys', tablefmt='plain'))"
   ],
   "id": "2296482af1101de7",
   "outputs": [],
   "execution_count": null
  },
  {
   "metadata": {},
   "cell_type": "markdown",
   "source": [
    "\n",
    "### Control query definition\n",
    "Set the marking formula of cancer losing the apoptosis, that is the negation of apoptosis query, A cell therefore cannot die defining a hallmark of cancer."
   ],
   "id": "875556c3fc5b0db6"
  },
  {
   "metadata": {},
   "cell_type": "code",
   "source": [
    "kquery = simplify_logic(~apoptosis_marking, force=True)\n",
    "print(\"Disease query, prevent apoptosis: \", kquery)"
   ],
   "id": "217179af84206663",
   "outputs": [],
   "execution_count": null
  },
  {
   "metadata": {},
   "cell_type": "markdown",
   "source": [
    "Now, we define the variables where the control can be applied to force the freeze of variables.\n",
    "A variable can have two controls for freezing to True and to False.\n",
    "The biomarkers are always excluded from the control since they are observers characterizing the phenotypes by their profile."
   ],
   "id": "8f26a57cbd90b523"
  },
  {
   "metadata": {},
   "cell_type": "code",
   "source": [
    "frozenvars0 = frozenvars1 = bcbn.variables - biomarkers\n",
    "print(\"Frozen variables 0 and 1\")\n",
    "print(tabulate([frozenvars0, frozenvars1], tablefmt='grid'))"
   ],
   "id": "4497b56b04096262",
   "outputs": [],
   "execution_count": null
  },
  {
   "metadata": {},
   "cell_type": "markdown",
   "source": "Finally, we extend the Boolean network to a Boolean Controlled network according to the frozen variables. ",
   "id": "d31d0766cf32683a"
  },
  {
   "metadata": {},
   "cell_type": "markdown",
   "source": [
    "### Boolean Controlled Network (BCN)\n",
    "Copy the network and fix the control on it. The control consists in adding control parameters such that: \n",
    "- _u0X: is the control for setting the variable X to False\n",
    "- _u1X: is the control for setting the variable X to True.\n",
    "\n",
    "A control is active when it freezes (set to 0/False). \n"
   ],
   "id": "1c72dc19bdf825f4"
  },
  {
   "metadata": {},
   "cell_type": "code",
   "source": [
    "bcc = bcbn.copy()\n",
    "bcc.control(frozenvars0, frozenvars1)\n",
    "print(bcc)"
   ],
   "id": "52af5e5d2274e06f",
   "outputs": [],
   "execution_count": null
  },
  {
   "metadata": {},
   "cell_type": "markdown",
   "source": [
    " ### Controllability Analysis\n",
    "A controllability analysis should be conducted for identifying the potential gene freezes that would satisfy the query at stable state.\n",
    "\n",
    "The number of models is approximately 3,500. We kindly request your patience."
   ],
   "id": "dbf511d7cef1edc"
  },
  {
   "metadata": {},
   "cell_type": "code",
   "source": [
    "print(\"\\nQuery: Necessary avoid the apoptosis.\")\n",
    "start_time = time.time()\n",
    " # The trace is activated to see the evolution of the computation.\n",
    "destiny = bcc.necessary(kquery, trace=True) \n",
    "print(\"Runtime..: {:5.2f}\".format(time.time() - start_time))\n",
    "print(\"# clauses: {}\".format(len(destiny.args)))\n",
    "print(\"# symbols: {}\".format(destiny.count(Symbol)))"
   ],
   "id": "1afdcb368391a99e",
   "outputs": [],
   "execution_count": null
  },
  {
   "metadata": {},
   "cell_type": "markdown",
   "source": [
    "### Controllability Analysis\n",
    "About 10 solutions"
   ],
   "id": "f9b17a6b20dd1102"
  },
  {
   "metadata": {},
   "cell_type": "code",
   "source": [
    "print(\"\\nCore\")\n",
    "# Compute the core.\n",
    "start_time = time.time()\n",
    "# The standard Pulp solver (Default) is used. However, other solvers as GUROBI can be used for improving the performance of the resolution.\n",
    "core = bcc.destify(destiny, trace=True, solver=PULP_CBC_CMD)\n",
    "print(\"Runtime: {:5.2f}\".format(time.time() - start_time))"
   ],
   "id": "efd8378dd16e55ea",
   "outputs": [],
   "execution_count": null
  },
  {
   "metadata": {},
   "cell_type": "markdown",
   "source": [
    "From the core, we derive the potential freeze actions as a pair (gene, freeze action).\n",
    "The table comprises a series of lines, each corresponding to a specific freeze action on genes that is necessary to fulfil the query.\n",
    "In the event that two pairs are present within a single line, it is necessary to combine both actions."
   ],
   "id": "f0115149077f122a"
  },
  {
   "metadata": {},
   "cell_type": "code",
   "source": [
    "print(\"\\nActions\")  # Transform the core into actions.\n",
    "actions = core2actions(core)\n",
    "print(tabulate(actions))"
   ],
   "id": "f9bf80f24ac13066",
   "outputs": [],
   "execution_count": null
  },
  {
   "metadata": {},
   "cell_type": "markdown",
   "source": [
    "### Define the possibility\n",
    "It is important to note that the calculation of the possibility itself results in an empty set of controls,\n",
    "since an equilibrium already exists which does not correspond to the apoptosis profile.\n",
    "Consequently, no control is required."
   ],
   "id": "f1c722b9cf01767e"
  },
  {
   "metadata": {},
   "cell_type": "code",
   "source": [
    "destiny2 = bcc.possibly(kquery)\n",
    "print(\"# clauses: {}\".format(len(destiny2.args)))"
   ],
   "id": "7518f5caa2ca4a4e",
   "outputs": [],
   "execution_count": null
  },
  {
   "metadata": {},
   "cell_type": "code",
   "source": [
    "core2 = bcc.destify(destiny2)\n",
    "print(\"\\nActions\")\n",
    "actions2 = core2actions(core2)\n",
    "print(tabulate(actions2))"
   ],
   "id": "6340b0f733c7de38",
   "outputs": [],
   "execution_count": null
  },
  {
   "metadata": {},
   "cell_type": "markdown",
   "source": [
    "## Drug Target identification\n",
    "We now identify the possible drug target associated with the expected action to cure BRCA1 Cancer."
   ],
   "id": "25e4dc0248a5f353"
  },
  {
   "metadata": {},
   "cell_type": "code",
   "source": [
    "# We define a situation of cancer with BRCA1 mutation.\n",
    "print(\"\\n\" * 2, \" - Mutate BRCA1  -\")\n",
    "BRCA1 = symbols(\"BRCA1\")\n",
    "bcbn.desc[BRCA1] = False\n",
    "\n",
    "print(\"Mutated network.\")\n",
    "print(bcbn)"
   ],
   "id": "681dde44c6ff5efa",
   "outputs": [],
   "execution_count": null
  },
  {
   "metadata": {},
   "cell_type": "markdown",
   "source": "Define the frozen variables from the previous situation of the frozen variables by removing BRCA1",
   "id": "e2319565942500ad"
  },
  {
   "metadata": {},
   "cell_type": "code",
   "source": [
    "# copy the network and apply control\n",
    "# Remove the mutated gene from the controlled variable since no modifications is possible.\n",
    "frozenvars0 = frozenvars1 = frozenvars0 - {BRCA1}\n",
    "bndrug = bcbn.copy()  # fix control on a new instance of bcbn.\n",
    "bndrug.control(frozenvars0, frozenvars1)"
   ],
   "id": "dc569946f301c83b",
   "outputs": [],
   "execution_count": null
  },
  {
   "metadata": {},
   "cell_type": "markdown",
   "source": [
    "### Controllability analysis\n",
    "The issue is to identify the actions that induce apoptosis to determine the most effective therapeutic targets.\n",
    "It is hypothesized that at least a stable state will fulfil the query property since the drug may not work for all people.\n",
    "\n",
    "Note that the possibility of resolution is faster than the necessity."
   ],
   "id": "c547eee4fb2097a4"
  },
  {
   "metadata": {},
   "cell_type": "code",
   "source": [
    "\n",
    "print(\"\\nQuery : Possibly lead to apoptosis.\")\n",
    "start_time = time.time()\n",
    "destiny = bndrug.possibly(apoptosis_marking)\n",
    "print(\"Runtime..: {:5.2f}\".format(time.time() - start_time))\n",
    "print(\"# clauses: {}\".format(len(destiny.args)))\n",
    "print(\"# symbols: {}\".format(destiny.count(Symbol)))"
   ],
   "id": "7190e5dded695d90",
   "outputs": [],
   "execution_count": null
  },
  {
   "metadata": {},
   "cell_type": "code",
   "source": [
    "print(\"\\nCore\")\n",
    "start_time = time.time()\n",
    "core = bndrug.destify(destiny)\n",
    "print(\"Runtime: {:5.2f}\".format(time.time() - start_time))"
   ],
   "id": "5e9da88d9ac3f02a",
   "outputs": [],
   "execution_count": null
  },
  {
   "metadata": {},
   "cell_type": "markdown",
   "source": "From the core, we finally derive the potential freeze actions as a pair (gene, freeze action) to gain the apoptosis.",
   "id": "43326d520445abbb"
  },
  {
   "metadata": {},
   "cell_type": "code",
   "source": [
    "print(\"\\nActions\")  # Transform the core into actions.\n",
    "actions = core2actions(core)\n",
    "print(tabulate(actions))"
   ],
   "id": "47b6a7d6186441e2",
   "outputs": [],
   "execution_count": null
  },
  {
   "metadata": {},
   "cell_type": "markdown",
   "source": [
    "#### Switch to necessary condition\n",
    "From the solutions we filter those where the query holds to all stable states corresponding to a necessary condition.\n",
    "Notice that the method must be applied to the original non-controlled network."
   ],
   "id": "b8e7aea7060531"
  },
  {
   "metadata": {},
   "cell_type": "code",
   "source": [
    "core_necessary = bcbn.filter_necessary(destiny,core,trace=False)\n",
    "actions = core2actions(core_necessary)\n",
    "print(\"\\nNecessary Actions\")\n",
    "print(tabulate(actions))"
   ],
   "id": "6bd6a9639f0ceb4",
   "outputs": [],
   "execution_count": null
  },
  {
   "metadata": {},
   "cell_type": "code",
   "source": "",
   "id": "1c82e152f000129e",
   "outputs": [],
   "execution_count": null
  }
 ],
 "metadata": {
  "kernelspec": {
   "display_name": "Python 3",
   "language": "python",
   "name": "python3"
  },
  "language_info": {
   "codemirror_mode": {
    "name": "ipython",
    "version": 2
   },
   "file_extension": ".py",
   "mimetype": "text/x-python",
   "name": "python",
   "nbconvert_exporter": "python",
   "pygments_lexer": "ipython2",
   "version": "2.7.6"
  }
 },
 "nbformat": 4,
 "nbformat_minor": 5
}
