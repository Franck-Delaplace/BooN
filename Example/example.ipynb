{
 "cells": [
  {
   "metadata": {},
   "cell_type": "markdown",
   "source": [
    "# Basic use of BooN\n",
    "We illustrate by examples the main methods of BooN."
   ],
   "id": "bd0e65504fc6165b"
  },
  {
   "metadata": {},
   "cell_type": "code",
   "source": [
    "\n",
    "import matplotlib.pyplot as plt\n",
    "import networkx as nx\n",
    "from sympy.abc import w, x, y, z, v\n",
    "from tabulate import tabulate\n",
    "from boon import *\n",
    "from boon.logic import *"
   ],
   "id": "aec393561122f205",
   "outputs": [],
   "execution_count": null
  },
  {
   "metadata": {},
   "cell_type": "markdown",
   "source": [
    "## Definition of a Boolean Network\n",
    "Show the Boolean network in different output formats."
   ],
   "id": "84b6d45d15e3862a"
  },
  {
   "metadata": {},
   "cell_type": "code",
   "source": [
    "# Define the initial Boolean network\n",
    "boon = BooN({x: y, y: x & z, z: w | ~x & v | y, w: x & y | ~x & z & ~w & ~v, v: ~v & w})"
   ],
   "id": "b97888f9bec444b3",
   "outputs": [],
   "execution_count": null
  },
  {
   "metadata": {},
   "cell_type": "code",
   "source": [
    "# Get the variables\n",
    "print(\"Variables of BooN: \", boon.variables)"
   ],
   "id": "d55520f6a6e15d4c",
   "outputs": [],
   "execution_count": null
  },
  {
   "metadata": {},
   "cell_type": "markdown",
   "source": "### View of the network with different output formats",
   "id": "8e68d398429efec"
  },
  {
   "metadata": {},
   "cell_type": "code",
   "source": [
    "# Show BooN with different styles.\n",
    "print(\"- SHOW NETWORK -\")\n",
    "print(\"Logical\")\n",
    "print(boon)"
   ],
   "id": "30389aff5d7d5b45",
   "outputs": [],
   "execution_count": null
  },
  {
   "metadata": {},
   "cell_type": "code",
   "source": [
    "print(\"Sympy\")\n",
    "boon.style = SYMPY\n",
    "print(boon)"
   ],
   "id": "7d2031c9fb002340",
   "outputs": [],
   "execution_count": null
  },
  {
   "metadata": {},
   "cell_type": "code",
   "source": [
    "print(\"Mathematica\")\n",
    "boon.style = MATHEMATICA\n",
    "print(boon)"
   ],
   "id": "4ade67b0dd1d77c5",
   "outputs": [],
   "execution_count": null
  },
  {
   "metadata": {},
   "cell_type": "code",
   "source": [
    "# Default style is LOGICAL\n",
    "boon.style = LOGICAL"
   ],
   "id": "ccbe4de184fcc98e",
   "outputs": [],
   "execution_count": null
  },
  {
   "metadata": {},
   "cell_type": "markdown",
   "source": "## Basic Operations on variables",
   "id": "ee8388cfb92fdc21"
  },
  {
   "metadata": {},
   "cell_type": "code",
   "source": [
    "# Delete variable v.\n",
    "print(\"- DELETE v -\")\n",
    "boon.delete(v)\n",
    "print(boon)"
   ],
   "id": "38ef37f933e2d21f",
   "outputs": [],
   "execution_count": null
  },
  {
   "metadata": {},
   "cell_type": "code",
   "source": [
    "# Rename variable w to v.\n",
    "print(\"- RENAME w to v -\")\n",
    "boon.rename(w, v)\n",
    "print(boon)"
   ],
   "id": "65e82543cd5f3086",
   "outputs": [],
   "execution_count": null
  },
  {
   "metadata": {},
   "cell_type": "markdown",
   "source": "## Analysis of the Dynamics",
   "id": "d5f2c567523a6a70"
  },
  {
   "metadata": {},
   "cell_type": "code",
   "source": [
    "# compute the stable states\n",
    "print(\"- STABLE STATES -\")\n",
    "stable = boon.stable_states\n",
    "print(tabulate(stable, headers='keys', tablefmt='dpsl'))"
   ],
   "id": "d028b69e59cb0b04",
   "outputs": [],
   "execution_count": null
  },
  {
   "metadata": {},
   "cell_type": "markdown",
   "source": "Stability logical constraints for generating the stable states.",
   "id": "dfe8ff401194ba61"
  },
  {
   "metadata": {},
   "cell_type": "code",
   "source": [
    "\n",
    "print(\"\\nStability constraints in logic:\", prettyform(boon.stability_constraints()))"
   ],
   "id": "9df075c2e6ee8274",
   "outputs": [],
   "execution_count": null
  },
  {
   "metadata": {},
   "cell_type": "markdown",
   "source": "### Asynchronous model",
   "id": "84dd788610fa15f3"
  },
  {
   "metadata": {},
   "cell_type": "code",
   "source": [
    "# initialize figures\n",
    "_, ax2 = plt.subplots()\n",
    "# Define the datamodel of dynamics\n",
    "print(\"- MODEL ASYNCHRONOUS-\")\n",
    "M = boon.model()\n",
    "ax2.axis('off')\n",
    "boon.draw_model(M, pos=hypercube_layout(4), ax=ax2)"
   ],
   "id": "972147bccb8c5ab5",
   "outputs": [],
   "execution_count": null
  },
  {
   "metadata": {},
   "cell_type": "markdown",
   "source": "### Synchronous model",
   "id": "34033b364eed17bd"
  },
  {
   "metadata": {},
   "cell_type": "code",
   "source": [
    "# Synchronous datamodel\n",
    "print(\"- MODEL SYNCHRONOUS-\")\n",
    "MS = boon.model(mode=synchronous, self_loop=True)\n",
    "_, ax3 = plt.subplots()\n",
    "ax3.axis('off')\n",
    "boon.draw_model(MS, pos=nx.shell_layout(MS), ax=ax3)"
   ],
   "id": "d2691ba65c91289c",
   "outputs": [],
   "execution_count": null
  },
  {
   "metadata": {},
   "cell_type": "markdown",
   "source": "### Equilibria",
   "id": "5409fd6848c0787a"
  },
  {
   "metadata": {},
   "cell_type": "markdown",
   "source": "#### Asynchonous",
   "id": "50cabd26cd58074a"
  },
  {
   "metadata": {},
   "cell_type": "code",
   "source": [
    "print(\"- ASYNCHRONOUS EQUILIBRIA -\")\n",
    "eqs = boon.equilibria(model=M)\n",
    "for eq in eqs:\n",
    "    print(tabulate(eq, headers='keys'))"
   ],
   "id": "8a2d9b8c7ed17d62",
   "outputs": [],
   "execution_count": null
  },
  {
   "metadata": {},
   "cell_type": "markdown",
   "source": "#### Synchronous",
   "id": "534ae398d2db1ea"
  },
  {
   "metadata": {},
   "cell_type": "code",
   "source": [
    "print(\"- SYNCHRONOUS EQUILIBRIA -\")\n",
    "eqs = boon.equilibria(model=MS)\n",
    "for eq in eqs:\n",
    "    print(tabulate(eq, headers='keys'))"
   ],
   "id": "c967253636f64016",
   "outputs": [],
   "execution_count": null
  },
  {
   "metadata": {},
   "cell_type": "markdown",
   "source": "## Interaction Graph",
   "id": "f66ad2deb4e1fd28"
  },
  {
   "metadata": {},
   "cell_type": "code",
   "source": [
    "# Build the interaction graph\n",
    "IG = boon.interaction_graph\n",
    "\n",
    "boon.pos = nx.circular_layout(IG)\n",
    "_, ax1 = plt.subplots()\n",
    "ax1.axis('off')\n",
    "boon.draw_IG(IG, modular=True, ax=ax1)"
   ],
   "id": "97841ec3a1a3a8a",
   "outputs": [],
   "execution_count": null
  },
  {
   "metadata": {},
   "cell_type": "code",
   "source": [
    "# retrieve BooN from the interaction graph\n",
    "print(\"- FROM INTERACTION GRAPH -\")\n",
    "boon2= BooN.from_ig(IG)\n",
    "print(boon2)"
   ],
   "id": "b87eb82c68148df8",
   "outputs": [],
   "execution_count": null
  },
  {
   "metadata": {},
   "cell_type": "markdown",
   "source": "## Load and Save",
   "id": "4319f35c92a31191"
  },
  {
   "metadata": {},
   "cell_type": "code",
   "source": [
    "# save and re-load in a new BooN boon2\n",
    "print(\"SAVE and LOAD\")\n",
    "boon.save(\"bn\") \n",
    "print(\"BooN saved in bn.boon - next re loaded.\")\n",
    "\n",
    "boon2 = BooN.load(\"bn\") # load is a static method of BooN\n",
    "print(boon2)"
   ],
   "id": "cbdf11db93cb66c2",
   "outputs": [],
   "execution_count": null
  },
  {
   "metadata": {},
   "cell_type": "markdown",
   "source": "export and import from BoolNet file",
   "id": "58ed7956b8526245"
  },
  {
   "metadata": {},
   "cell_type": "code",
   "source": [
    "print(\"- EXPORT & IMPORT -\")\n",
    "boon2.to_textfile('bn')\n",
    "print(\"BooN exported as Bool Net format in bn.bnet - next imported. \")\n",
    "boon2 = BooN.from_textfile('bn.bnet')  \n",
    "print(boon2)"
   ],
   "id": "efb791a8e05e04aa",
   "outputs": [],
   "execution_count": null
  },
  {
   "metadata": {},
   "cell_type": "markdown",
   "source": [
    "## Normal form Conversion\n",
    "Conversion of the formulas to CNF and DNF form."
   ],
   "id": "ed4e49659b5bc7f6"
  },
  {
   "metadata": {},
   "cell_type": "code",
   "source": [
    "# Convert the formula to CNF\n",
    "print(\"- CNF Conversion -\")\n",
    "boon2.cnf()\n",
    "print(boon2)"
   ],
   "id": "b69defd21d7b8a04",
   "outputs": [],
   "execution_count": null
  },
  {
   "metadata": {},
   "cell_type": "code",
   "source": [
    "# Convert the formula do DNF\n",
    "print(\" - DNF conversion -\")\n",
    "boon2.dnf()\n",
    "print(boon2)"
   ],
   "id": "421a5f74efb424f6",
   "outputs": [],
   "execution_count": null
  },
  {
   "metadata": {},
   "cell_type": "markdown",
   "source": [
    "## Random Graph Generation\n",
    "Generate a random graph where the formulas are in DNF. The generation depends on the class of topology of the interaction graph. 3 classes are available: 'Erdos-Reny', 'Small-World', and 'Scale-Free'.\n",
    "By default the Erdos-Reny class is selected.\n",
    "The other parameters are the number of nodes, a probability related to interaction between variables,\n",
    "the probability to get a positive term, the minimal and maximal number of clauses and the prefix of the variables (default 'x')."
   ],
   "id": "f0ae606e45a5f2aa"
  },
  {
   "metadata": {},
   "cell_type": "code",
   "source": [
    "# Number of nodes.\n",
    "n = 20"
   ],
   "id": "6118a9dd83737570",
   "outputs": [],
   "execution_count": null
  },
  {
   "metadata": {},
   "cell_type": "markdown",
   "source": "### Erdös Reny",
   "id": "f68d38eef57bea38"
  },
  {
   "metadata": {},
   "cell_type": "code",
   "source": [
    "boonrand = BooN.random(n, p_link=0.25, p_pos=0.6, topology='Erdos-Reny')\n",
    "boonrand.pos = nx.circular_layout(boonrand.interaction_graph)\n",
    "print(boonrand)"
   ],
   "id": "e006b38aa9eb2390",
   "outputs": [],
   "execution_count": null
  },
  {
   "metadata": {},
   "cell_type": "code",
   "source": "boonrand.draw_IG()",
   "id": "a2f110936f4fa025",
   "outputs": [],
   "execution_count": null
  },
  {
   "metadata": {},
   "cell_type": "markdown",
   "source": "### Small World ",
   "id": "59a25159e59106b5"
  },
  {
   "metadata": {},
   "cell_type": "code",
   "source": [
    "boonrand = BooN.random(n, p_link=1.0, p_pos=0.6, topology='Small-World')\n",
    "boonrand.pos = nx.circular_layout(boonrand.interaction_graph)\n",
    "print(boonrand)"
   ],
   "id": "c9f012c7c0b2292c",
   "outputs": [],
   "execution_count": null
  },
  {
   "metadata": {},
   "cell_type": "code",
   "source": "boonrand.draw_IG()",
   "id": "175c3a216f4a4798",
   "outputs": [],
   "execution_count": null
  },
  {
   "metadata": {},
   "cell_type": "markdown",
   "source": "### Scale Free",
   "id": "7505bf6112c8f4fc"
  },
  {
   "metadata": {},
   "cell_type": "code",
   "source": [
    "boonrand = BooN.random(n, p_link=0.1, p_pos=0.6, topology='Scale-Free')\n",
    "boonrand.pos = nx.circular_layout(boonrand.interaction_graph)\n",
    "print(boonrand)"
   ],
   "id": "5adc63e6808c4541",
   "outputs": [],
   "execution_count": null
  },
  {
   "metadata": {},
   "cell_type": "code",
   "source": "boonrand.draw_IG()",
   "id": "cb980d2e844c5505",
   "outputs": [],
   "execution_count": null
  }
 ],
 "metadata": {
  "kernelspec": {
   "display_name": "Python 3",
   "language": "python",
   "name": "python3"
  },
  "language_info": {
   "codemirror_mode": {
    "name": "ipython",
    "version": 2
   },
   "file_extension": ".py",
   "mimetype": "text/x-python",
   "name": "python",
   "nbconvert_exporter": "python",
   "pygments_lexer": "ipython2",
   "version": "2.7.6"
  }
 },
 "nbformat": 4,
 "nbformat_minor": 5
}
