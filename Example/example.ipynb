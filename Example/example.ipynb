{
 "cells": [
  {
   "metadata": {},
   "cell_type": "code",
   "source": [
    "import matplotlib.pyplot as plt\n",
    "import networkx as nx\n",
    "from sympy.abc import w, x, y, z, v\n",
    "from tabulate import tabulate\n",
    "from boon import *\n",
    "from boon.logic import *\n",
    "\n",
    "# The program illustrates the basic features of BooN\n",
    "\n",
    "# Define the initial Boolean network\n",
    "boon = BooN({x: y, y: x & z, z: w | ~x & v | y, w: x & y | ~x & z & ~w & ~v, v: ~v & w})"
   ],
   "id": "b97888f9bec444b3",
   "outputs": [],
   "execution_count": null
  },
  {
   "metadata": {},
   "cell_type": "code",
   "source": [
    "# Get the variables\n",
    "print(\"Variables of BooN: \", boon.variables)"
   ],
   "id": "d55520f6a6e15d4c",
   "outputs": [],
   "execution_count": null
  },
  {
   "metadata": {},
   "cell_type": "code",
   "source": [
    "# Show BooN with different styles.\n",
    "print(\"- SHOW NETWORK -\")\n",
    "print(\"Logical\")\n",
    "print(boon)"
   ],
   "id": "30389aff5d7d5b45",
   "outputs": [],
   "execution_count": null
  },
  {
   "metadata": {},
   "cell_type": "code",
   "source": [
    "print(\"Sympy\")\n",
    "boon.style = SYMPY\n",
    "print(boon)"
   ],
   "id": "7d2031c9fb002340",
   "outputs": [],
   "execution_count": null
  },
  {
   "metadata": {},
   "cell_type": "code",
   "source": [
    "print(\"Mathematica\")\n",
    "boon.style = MATHEMATICA\n",
    "print(boon)"
   ],
   "id": "4ade67b0dd1d77c5",
   "outputs": [],
   "execution_count": null
  },
  {
   "metadata": {},
   "cell_type": "code",
   "source": [
    "# Default style is LOGICAL\n",
    "boon.style = LOGICAL"
   ],
   "id": "ccbe4de184fcc98e",
   "outputs": [],
   "execution_count": null
  },
  {
   "metadata": {},
   "cell_type": "code",
   "source": [
    "print(\"- DELETE v -\")\n",
    "boon.delete(v)\n",
    "print(boon)"
   ],
   "id": "38ef37f933e2d21f",
   "outputs": [],
   "execution_count": null
  },
  {
   "metadata": {},
   "cell_type": "code",
   "source": [
    "print(\"- RENAME w to v -\")\n",
    "boon.rename(w, v)\n",
    "print(boon)"
   ],
   "id": "65e82543cd5f3086",
   "outputs": [],
   "execution_count": null
  },
  {
   "metadata": {},
   "cell_type": "code",
   "source": [
    "# compute the stable states\n",
    "print(\"- STABLE STATES -\")\n",
    "stable = boon.stable_states\n",
    "print(tabulate(stable, headers='keys', tablefmt='dpsl'))\n",
    "\n",
    "print(\"\\nStability constraints in logic:\", prettyform(boon.stability_constraints()))"
   ],
   "id": "9df075c2e6ee8274",
   "outputs": [],
   "execution_count": null
  },
  {
   "metadata": {},
   "cell_type": "code",
   "source": "",
   "id": "4acca1f255e771cc",
   "outputs": [],
   "execution_count": null
  },
  {
   "metadata": {},
   "cell_type": "code",
   "source": [
    "# initialize figures\n",
    "_, ax2 = plt.subplots()\n",
    "# Define the datamodel of dynamics\n",
    "print(\"- MODEL ASYNCHRONOUS-\")\n",
    "M = boon.model()\n",
    "ax2.axis('off')\n",
    "boon.draw_model(M, pos=hypercube_layout(4), ax=ax2)"
   ],
   "id": "972147bccb8c5ab5",
   "outputs": [],
   "execution_count": null
  },
  {
   "metadata": {},
   "cell_type": "code",
   "source": [
    "# Synchronous datamodel\n",
    "print(\"- MODEL SYNCHRONOUS-\")\n",
    "MS = boon.model(mode=synchronous, self_loop=True)\n",
    "_, ax3 = plt.subplots()\n",
    "ax3.axis('off')\n",
    "boon.draw_model(MS, pos=nx.shell_layout(MS), ax=ax3)"
   ],
   "id": "d2691ba65c91289c",
   "outputs": [],
   "execution_count": null
  },
  {
   "metadata": {},
   "cell_type": "code",
   "source": [
    "print(\"- EQUILIBRIA -\")\n",
    "eqs = boon.equilibria(model=MS)\n",
    "for eq in eqs:\n",
    "    print(tabulate(eq, headers='keys'))"
   ],
   "id": "c967253636f64016",
   "outputs": [],
   "execution_count": null
  },
  {
   "metadata": {},
   "cell_type": "code",
   "source": [
    "# Build the interaction graph\n",
    "IG = boon.interaction_graph\n",
    "\n",
    "boon.pos = nx.circular_layout(IG)\n",
    "_, ax1 = plt.subplots()\n",
    "ax1.axis('off')\n",
    "boon.draw_IG(IG, modular=True, ax=ax1)"
   ],
   "id": "97841ec3a1a3a8a",
   "outputs": [],
   "execution_count": null
  },
  {
   "metadata": {},
   "cell_type": "code",
   "source": [
    "# retrieve BooN from the interaction graph\n",
    "print(\"- FROM INTERACTION GRAPH -\")\n",
    "boon.from_ig(IG)\n",
    "print(boon)"
   ],
   "id": "b87eb82c68148df8",
   "outputs": [],
   "execution_count": null
  },
  {
   "metadata": {},
   "cell_type": "code",
   "source": [
    "# save and re-load in a new BooN boon2\n",
    "print(\"SAVE and LOAD\")\n",
    "boon.save(\"bn\")\n",
    "boon2 = BooN()\n",
    "boon2.load(\"bn\")  # load is a static method of BooN\n",
    "print(boon2)"
   ],
   "id": "efb791a8e05e04aa",
   "outputs": [],
   "execution_count": null
  },
  {
   "metadata": {},
   "cell_type": "code",
   "source": [
    "print(\"- CNF Conversion -\")\n",
    "boon2.cnf()\n",
    "print(boon2)"
   ],
   "id": "b69defd21d7b8a04",
   "outputs": [],
   "execution_count": null
  },
  {
   "metadata": {},
   "cell_type": "code",
   "source": [
    "print(\" - DNF conversion -\")\n",
    "boon2.dnf()\n",
    "print(boon2)"
   ],
   "id": "421a5f74efb424f6",
   "outputs": [],
   "execution_count": null
  },
  {
   "metadata": {},
   "cell_type": "code",
   "source": [
    "# exportation and import from  text file\n",
    "print(\"- EXPORT & IMPORT -\")\n",
    "boon2.to_textfile('boolnet')\n",
    "boon2.from_textfile('boolnet.txt')  \n",
    "print(boon2)"
   ],
   "id": "7d7eef3a88a211a9",
   "outputs": [],
   "execution_count": null
  }
 ],
 "metadata": {
  "kernelspec": {
   "display_name": "Python 3",
   "language": "python",
   "name": "python3"
  },
  "language_info": {
   "codemirror_mode": {
    "name": "ipython",
    "version": 2
   },
   "file_extension": ".py",
   "mimetype": "text/x-python",
   "name": "python",
   "nbconvert_exporter": "python",
   "pygments_lexer": "ipython2",
   "version": "2.7.6"
  }
 },
 "nbformat": 4,
 "nbformat_minor": 5
}
